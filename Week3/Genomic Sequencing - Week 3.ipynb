{
 "cells": [
  {
   "cell_type": "markdown",
   "metadata": {},
   "source": [
    "# Genomic Sequencing - Week 3\n",
    "\n",
    "### How do we sequence antibiotics (Part I)?\n",
    "\n",
    "In August 1928, Scottish microbiologist Alexander Flemming noticed one of his cultures of infection-causing *Staphylococcus* bacteria was contaminated with *Penicillium* fungus. The colony of *Staphylococcus* surrounding the fungus had been destroyed. The bacteria killing substance he named **penicillin**. Experimentally this would not be important for a few more decades because it was so difficult to isolate the **antibiotic** agent (compound that actually killed bacteria) from the fungus. It was not until 1942 when Russian biologists Gregory Gause and Maria Brazhnikova noticed that the *Bacillus brevis* bacterium killed the pathogenic bacterium *Staphylococcus aureus*. They were able to successfully isolate the antibiotic compound from *Bacillus brevis* and named it Gramicidin Soviet. American scientists eventually were able to find a moldy cantaloupe in Illinois that allowed them to produce 2 million doses of penicillin in time for the invasion of Normandy in 1944.\n",
    "\n",
    "Now the difficult problem was to elucidate the chemical composition of the antibiotic compounds. Gause was unable to do this for Gramicidin Soviet, however English biochemist Richard Synge was able to demonstrate that they represent short amino-acid sequences (mini-proteins) called **peptides**. Since then the mass production of antibiotics created an evolutionary arms race between scientists/pharma companies and pathogenic bacteria. New antibiotic drugs are developed while bacteria acquire resistance against these drugs. Modern medicine has largely prevailed over the last six decades, however in the last decade we have witnessed an alarming rise in antibiotic resistant bacterial infections that cannot be cured by even the most powerful antibiotics. A particular mutated strain Gause studied in 1942, **Methicillin-resistant *Staphylococcus aureus* (MRSA)**, is now the leading cause of death from infections.\n",
    "\n",
    "Modern research has attempted to accelerate development of new antibiotics. A difficult problem in antibiotic research is **sequencing** newly discovered antibiotics in order to determine the order of amino acids that make up the antibiotic peptide.\n",
    "\n",
    "#### How peptides are encoded by the genome\n",
    "\n",
    "Consider **Tyrocidine B1**, one of the many antibiotics produced by *Bacillus brevis*. The 10 amino acid long sequence is detailed below. We want to figure out how *Bacillus brevis* made this antibiotic.\n",
    "<img src=\"img/Capture.PNG\">\n",
    "\n",
    "The **Central Dogma of Molecular Biology** states DNA makes RNA makes protein.\n",
    "1. A gene from a genome is first **transcribed** into a strand of RNA composed of ribonulceotides ((A)denine, (G)uanine, (C)ytosine, and (U)racil)\n",
    "2. The RNA is then **translated** into an amino acid sequence of a protein.\n",
    "<img src=\"img/central_dogma.jpg\">\n",
    "\n",
    "From a computational perspective, DNA to RNA transcription is pretty straightforward as it is a DNA string with all T replaced by U. Translation occurs by partitioning the RNA into non-overlapping 3-mers called **codons**. Each codon corresponds to one of 20 amino acids according to the **genetic code**.\n",
    "<img src=\"img/genetic_code.png\" width=\"400\">"
   ]
  },
  {
   "cell_type": "code",
   "execution_count": 1,
   "metadata": {},
   "outputs": [],
   "source": [
    "# Code reused from previous weeks\n",
    "def revComp(pattern):\n",
    "    codon = {'A': 'T',\n",
    "             'T': 'A',\n",
    "             'G': 'C',\n",
    "             'C': 'G'}\n",
    "    return ''.join(codon[x] for x in pattern[::-1])  "
   ]
  },
  {
   "cell_type": "code",
   "execution_count": 2,
   "metadata": {},
   "outputs": [],
   "source": [
    "def dnaToRna(dna):\n",
    "    '''\n",
    "    Transcibe DNA string to RNA string\n",
    "    \n",
    "    Args:\n",
    "        dna (string): DNA string to be transcribed\n",
    "    \n",
    "    Returns:\n",
    "        string: Transcibed RNA string\n",
    "    '''\n",
    "    return ''.join('U' if x =='T' else x for x in dna)\n",
    "\n",
    "def proteinTrans(rna, stop=False):\n",
    "    '''\n",
    "    Protein Translation\n",
    "    Translate an RNA string into an amino acid string\n",
    "    \n",
    "    Args:\n",
    "        rna (string): RNA string to be translated.\n",
    "        \n",
    "    Returns:\n",
    "        string: Translated amino acid string\n",
    "    '''\n",
    "    with open(\"Data/rnaToAmino.txt\") as inFile:\n",
    "        data = inFile.readlines()\n",
    "        data = [x.strip() for x in data]\n",
    "    transMap = {}\n",
    "    for codons in data:\n",
    "        tCodon, amino = codons.split(\" \")\n",
    "        if amino == 'Stop':\n",
    "            transMap[tCodon] = '*'\n",
    "        else:\n",
    "            transMap[tCodon] = amino\n",
    "    prot = ''\n",
    "    for i in range(0, len(rna), 3):\n",
    "        codon = rna[i:i+3]\n",
    "        if stop and transMap[codon] == '*':\n",
    "            break\n",
    "        elif len(codon) == 3:\n",
    "            prot += transMap[codon]\n",
    "    return prot"
   ]
  },
  {
   "cell_type": "code",
   "execution_count": 3,
   "metadata": {},
   "outputs": [
    {
     "data": {
      "text/plain": [
       "'MAMAPRTEINSTRING'"
      ]
     },
     "execution_count": 3,
     "metadata": {},
     "output_type": "execute_result"
    }
   ],
   "source": [
    "# test/run proteinTrans function\n",
    "\n",
    "# dnaToRna(\"ATGGCCATGGCCCCCAGAACTGAGATCAATAGTACCCGTATTAACGGGTGA\")\n",
    "proteinTrans(\"AUGGCCAUGGCGCCCAGAACUGAGAUCAAUAGUACCCGUAUUAACGGGUGA\", stop=True)\n",
    "\n",
    "# with open(\"Data/dataset_96_4.txt\") as inFile:\n",
    "#     data = inFile.readlines()\n",
    "# rna = data[0].strip()\n",
    "# proteinTrans(rna)"
   ]
  },
  {
   "cell_type": "markdown",
   "metadata": {},
   "source": [
    "Looking at the genetic code there can be thousands of combinations of RNA strings that could ultimately code the same amino acid. For the Tyrocidine B1 amino acid peptide and a DNA string of length 30 there are 6,144 options. So looking at the *Bacillus brevis* genome how would we find where the sequence is that codes the antibiotic peptide? There are 3 ways to divide a DNA string into codons for translation, one starting at each of the first three starting positions of the string. These different ways of dividing the DNA string are called **reading frames**. Since DNA is double stranded a genome has 6 reading frames (3 on each strand).\n",
    "<img src=\"img/reading_frames.png\" width=\"400\">"
   ]
  },
  {
   "cell_type": "code",
   "execution_count": 4,
   "metadata": {},
   "outputs": [],
   "source": [
    "def peptideEncode(dna, peptide):\n",
    "    '''\n",
    "    Find substrings of a genome encoding a given amino acid sequence.\n",
    "    Note this is crude as it does not take into account reading frames or stop codons\n",
    "    \n",
    "    Args:\n",
    "        dna (string): DNA string to search through.\n",
    "        peptide (string): Target amino acid sequence.\n",
    "        \n",
    "    Returns:\n",
    "        list[string]: Collection of all DNA substrings that encode the target amino acid sequence.\n",
    "    '''\n",
    "    res = []\n",
    "    for i in range(len(dna) - (3 * len(peptide)) + 1):\n",
    "        frame = dna[i:i+(3*len(peptide))]\n",
    "        if proteinTrans(dnaToRna(frame)) == peptide or proteinTrans(dnaToRna(revComp(frame))) == peptide:\n",
    "            res.append(frame)\n",
    "    return res"
   ]
  },
  {
   "cell_type": "code",
   "execution_count": 5,
   "metadata": {},
   "outputs": [
    {
     "data": {
      "text/plain": [
       "['ATGGCC', 'GGCCAT', 'ATGGCC']"
      ]
     },
     "execution_count": 5,
     "metadata": {},
     "output_type": "execute_result"
    }
   ],
   "source": [
    "# test/run peptideEncode function\n",
    "\n",
    "peptideEncode(\"ATGGCCATGGCCCCCAGAACTGAGATCAATAGTACCCGTATTAACGGGTGA\", \"MA\")\n",
    "\n",
    "# with open(\"Data/dataset_96_7.txt\") as inFile:\n",
    "#     data = inFile.readlines()\n",
    "\n",
    "# dna = data[0].strip()\n",
    "# pep = data[1].strip()\n",
    "# print(*peptideEncode(dna, pep), sep=\"\\n\")"
   ]
  },
  {
   "cell_type": "markdown",
   "metadata": {},
   "source": [
    "Using this function, solve the Peptide Encoding Problem for *Bacillus brevis* and Tyrocidine B1 (Val-Lys-Leu-Phe-Pro-Trp-Phe-Asn-Gln-Tyr)[VKLFPWFNQY]. How many starting positions in Bacillus brevis encode this peptide?"
   ]
  },
  {
   "cell_type": "code",
   "execution_count": null,
   "metadata": {},
   "outputs": [],
   "source": [
    "%%time\n",
    "with open(\"Data/Bacillus_brevis.txt\") as inFile:\n",
    "    data = inFile.readlines()\n",
    "\n",
    "dna = ''.join([x.strip() for x in data])\n",
    "print(len(peptideEncode(dna, \"VKLFPWFNQY\")))"
   ]
  },
  {
   "cell_type": "markdown",
   "metadata": {},
   "source": [
    "The peptide corresponding to Tyrocidine is not found within any potential 30-mer in the genome. This is because unbeknownst to Gause or Synge tyrocidines and gramicidins are actually cyclic peptides, so if the length is 10 there are 10 different representations.\n",
    "<img src=\"img/tyrocidine_linear_representations.png\" width=\"550\">"
   ]
  },
  {
   "cell_type": "markdown",
   "metadata": {},
   "source": [
    "This does not make much sense. All peptides produced must be encoded by the genome. To test this in 1963 Edward Tatum inhibited the **ribosome**, the molecular machine responsible for protein translation, within *Bacillus brevis*. All proteins stopped being produced, except for tyrocidines and gramicidins. So there must be some non-ribosomal mode of production. In 1969, Fritz Lipmann demonstrated that tryocidines and gramicidins are **non-ribosomal peptides (NRPs)**, synthesized not by the ribosome but by **NRP synthetase**. This enzyme is able to generate antibiotic peptides without any RNA or genetic code, but it assembles them one amino acid at a time. NRPs are not limited to antibiotics, many of them represent anti-tumor agents and immunosuppressors.\n",
    "\n",
    "So back to the original problem sequencing these peptide antibiotics is problematic because we cannot infer them from the genome and they are cyclic. We will describe the standard process for sequencing linear peptides which is **not** applicable to NRP analysis (because they are cyclic).\n",
    "\n",
    "The primary equipment used is a **mass spectrometer**, which shatters molecules into pieces then weighs the fragments. The mass spec measures mass in **daltons (Da)**, where 1 Da is approximately equal to the mass of a single nuclear particle (proton or neutron). We will approximate the mass of a molecule by simply adding the number of protons and neutrons found in the molecules atoms giving us the molecule's **integer mass**.\n",
    "* **Note** 1 Da is not exactly equal to the mass of a proton/neutron, and we may need to account for different naturally occurring isotopes. Amino acids typically have non-integer masses (G = 57.02). However for simplicity we will consider the integer mass only.\n",
    "<img src=\"img/integer_mass_table.png\">\n",
    "\n",
    "Within the mass spec, one molecule of Tyrocidine B1 (VKLFPWFNQY) could break into many different fragments\n",
    "* Example: LFP & WFNQYVK or PWFN & QYVKLF\n",
    "\n",
    "The collection of all the fragment masses generated by the mass spec is called an **experimental spectrum**."
   ]
  },
  {
   "cell_type": "code",
   "execution_count": 1,
   "metadata": {},
   "outputs": [],
   "source": [
    "def calcMass(peptide, total=True):\n",
    "    '''\n",
    "    Calculate Mass of a peptide\n",
    "    \n",
    "    Args:\n",
    "        peptide (string): Peptide string to calculate mass.\n",
    "        total (bool, optional): Defualts to True. When true returns total mass\n",
    "            When false returns list of constituent amino acid masses.\n",
    "            \n",
    "    Returns:\n",
    "        int or list(int): Total mass of peptide or collection of masses of each amino acid in peptide.\n",
    "    '''\n",
    "    intMass = {}\n",
    "    with open(\"Data/integer_mass_table.txt\") as inFile:\n",
    "        for key, mass in [x.strip().split(\" \") for x in inFile.readlines()]:\n",
    "            intMass[key] = int(mass)\n",
    "    if total:\n",
    "        return sum([intMass[x] for x in peptide])\n",
    "    else:\n",
    "        return [intMass[x] for x in peptide]\n",
    "\n",
    "def linearSpectrum(peptide):\n",
    "    '''\n",
    "    Generate the theoretical mass spectrum of a given peptide, assuming it is linear\n",
    "    \n",
    "    Args:\n",
    "        peptide (string): Peptide string to calculate the theoretical mass spectrum of.\n",
    "        \n",
    "    Returns:\n",
    "        list[int]: Sorted theoretical mass spectrum of a peptide.\n",
    "    '''\n",
    "    intMass = {}\n",
    "    with open(\"Data/integer_mass_table.txt\") as inFile:\n",
    "        for key, mass in [x.strip().split(\" \") for x in inFile.readlines()]:\n",
    "            intMass[key] = int(mass)\n",
    "            \n",
    "    prefMass = [0]\n",
    "    for i in range(len(peptide)):\n",
    "        prefMass.append(prefMass[i] + intMass[peptide[i]])\n",
    "    linSpec = [0]\n",
    "    for i in range(len(prefMass)):\n",
    "        for j in range(i + 1, len(prefMass)):\n",
    "            linSpec.append(prefMass[j] - prefMass[i])\n",
    "    return sorted(linSpec)"
   ]
  },
  {
   "cell_type": "code",
   "execution_count": 2,
   "metadata": {},
   "outputs": [
    {
     "data": {
      "text/plain": [
       "[0, 113, 114, 128, 129, 242, 242, 257, 370, 371, 484]"
      ]
     },
     "execution_count": 2,
     "metadata": {},
     "output_type": "execute_result"
    }
   ],
   "source": [
    "# test/run linearSpectrum function\n",
    "\n",
    "linearSpectrum(\"NQEL\")\n",
    "\n",
    "# with open(\"Data/dataset_4912_2.txt\") as inFile:\n",
    "#     data = inFile.readlines()\n",
    "# print(*linearSpectrum(data[0].strip()), sep= \" \")"
   ]
  },
  {
   "cell_type": "code",
   "execution_count": 3,
   "metadata": {},
   "outputs": [],
   "source": [
    "def cyclicSpectrum(peptide, prnt=False, ret=True):\n",
    "    '''\n",
    "    Generate Theoretical Mass Spectrum for a given cyclical peptide\n",
    "    \n",
    "    Args:\n",
    "        peptide (string): Peptide string to calculate the theoretical mass spectrum of.\n",
    "        prnt (bool, optional): Defualts to False. If True prints space-separated, sorted mass spectrum.\n",
    "        ret (bool, optional): Defualts to True. If True returns sorted list of mass spectrum.\n",
    "        \n",
    "    Returns:\n",
    "        list[int], optional: Sorted list of theoretical mass spectrum of the given peptide.\n",
    "    '''\n",
    "    intMass = {}\n",
    "    with open(\"Data/integer_mass_table.txt\") as inFile:\n",
    "        for key, mass in [x.strip().split(\" \") for x in inFile.readlines()]:\n",
    "            intMass[key] = int(mass)\n",
    "            \n",
    "    prefMass = [0]\n",
    "    for i in range(len(peptide)):\n",
    "        prefMass.append(prefMass[i] + intMass[peptide[i]])\n",
    "    pepMass = prefMass[len(peptide)]\n",
    "    cycSpec = [0]\n",
    "    for i in range(len(prefMass)):\n",
    "        for j in range(i+1, len(prefMass)):\n",
    "            cycSpec.append(prefMass[j] - prefMass[i])\n",
    "            if i > 0 and j < len(peptide):\n",
    "                cycSpec.append(pepMass - cycSpec[-1])\n",
    "    cycSpec = sorted(cycSpec)\n",
    "    if prnt:\n",
    "        print(*cycSpec, sep=\" \")\n",
    "    if ret:\n",
    "        return cycSpec"
   ]
  },
  {
   "cell_type": "code",
   "execution_count": 4,
   "metadata": {},
   "outputs": [
    {
     "name": "stdout",
     "output_type": "stream",
     "text": [
      "0 113 114 128 129 227 242 242 257 355 356 370 371 484\n"
     ]
    }
   ],
   "source": [
    "# test/run cyclicSpectrum function\n",
    "\n",
    "cyclicSpectrum(\"LEQN\", prnt=True, ret=False)\n",
    "\n",
    "# with open(\"Data/dataset_98_4.txt\") as inFile:\n",
    "#     data = inFile.readlines()\n",
    "# cyclicSpectrum(data[0].strip(),prnt=True, ret=False)"
   ]
  },
  {
   "cell_type": "code",
   "execution_count": 10,
   "metadata": {},
   "outputs": [],
   "source": [
    "aaMass = [57, 71, 87, 97, 99, 101, 103, 113, 114, 115, 128, 129, 131, 137, 147, 156, 163, 186]\n",
    "masses = {}\n",
    "def countPepFromMass(m):\n",
    "    '''\n",
    "    Given a peptide mass calculate how many possible peptides could have that mass\n",
    "    \n",
    "    Args:\n",
    "        m (int): Integer mass of a peptide\n",
    "        \n",
    "    Returns:\n",
    "        int: Number of possible linear peptides that have mass equal to m \n",
    "    '''\n",
    "    if m < 0:\n",
    "        return 0\n",
    "    elif m == 0:\n",
    "        return 1\n",
    "    else:\n",
    "        count = 0\n",
    "        for aa in aaMass:\n",
    "            t = m - aa\n",
    "            if t in masses:\n",
    "                count += masses[t]\n",
    "            else:\n",
    "                temp = countPepFromMass(t)\n",
    "                masses[t] = temp\n",
    "                count += temp\n",
    "    return count"
   ]
  },
  {
   "cell_type": "code",
   "execution_count": 11,
   "metadata": {},
   "outputs": [
    {
     "name": "stdout",
     "output_type": "stream",
     "text": [
      "Number of peptides with mass= 1306: 33829429664367\n"
     ]
    }
   ],
   "source": [
    "# test/run countPepFromMass function\n",
    "\n",
    "# print(countPepFromMass(1024))\n",
    "\n",
    "with open(\"Data/dataset_99_2.txt\") as inFile:\n",
    "    n = int(inFile.readlines()[0].strip())\n",
    "\n",
    "print(f\"Number of peptides with mass= {n}: {countPepFromMass(n)}\")"
   ]
  },
  {
   "cell_type": "code",
   "execution_count": 1,
   "metadata": {},
   "outputs": [],
   "source": [
    "def specComp(pep, spectrum):\n",
    "    '''\n",
    "    Determines if a given peptide has a linear spectrum consistant with a given spectrum.\n",
    "    Peptide is consistent with sepectrum if every theoretical mass from the linear spectrum of the peptide\n",
    "    is contained within spectrum.\n",
    "    \n",
    "    Args:\n",
    "        pep (string): Peptide to generate linear spectrum and compare.\n",
    "        spectrum (list[int]): Spectrum of interest.\n",
    "        \n",
    "    Returns:\n",
    "        bool: True if the peptide sepctrum is consistent with the spectrum of interest, false otherwise.\n",
    "    '''\n",
    "    linSpec = linearSpectrum(pep)\n",
    "    test = spectrum[:]\n",
    "    for mass in linSpec[:]:\n",
    "        if mass in test:\n",
    "            linSpec.remove(mass)\n",
    "            test.remove(mass)\n",
    "    return len(linSpec) == 0\n",
    "\n",
    "def cycloPepSeq(spectrum, prnt=False, ret=True):\n",
    "    '''\n",
    "    Cyclopeptide Sequencing\n",
    "    Find all peptide combinations that result in a theoretical cyclical spectrum that is the same as the given spectrum.\n",
    "    \n",
    "    Args:\n",
    "        spectrum (list[int]): Spectrum to find matching peptides for.\n",
    "        prnt (bool, optional): Defualts to False. When true print formatted list of all peptide mass combinations\n",
    "        ret (bool, optional): Defualts to True. When true returns list of all possible peptides with matching spectrum.\n",
    "        \n",
    "    Returns:\n",
    "        list[string]: Collection of all possible peptides that have a theoretical cyclical spectrum\n",
    "            equal to the given spectrum.\n",
    "     '''\n",
    "    candPep = {\"\"}\n",
    "    final = []\n",
    "    \n",
    "    aaToMass = {}\n",
    "    MassToAA = {}\n",
    "    with open(\"Data/integer_mass_table.txt\") as inFile:\n",
    "        for key, mass in [x.strip().split(\" \") for x in inFile.readlines()]:\n",
    "            aaToMass[key] = int(mass)\n",
    "            MassToAA[int(mass)] = key\n",
    "    aa = []\n",
    "    for mass in spectrum:\n",
    "        if mass <= 186:\n",
    "            if mass in MassToAA:\n",
    "                aa.append(MassToAA[mass])\n",
    "        else:\n",
    "            break\n",
    "            \n",
    "    while candPep:\n",
    "        temp = set()\n",
    "        for cand in candPep:\n",
    "            for a in aa:\n",
    "                temp.add(cand + a)\n",
    "        candPep = temp\n",
    "        temp = set()\n",
    "        for pep in candPep:\n",
    "            if calcMass(pep) in spectrum:\n",
    "                if cyclicSpectrum(pep) == spectrum and pep not in final:\n",
    "                    final.append(pep)\n",
    "                else:\n",
    "                    temp.add(pep)\n",
    "            elif calcMass(pep) <= max(spectrum) and specComp(pep, spectrum):\n",
    "                temp.add(pep)\n",
    "        candPep = temp\n",
    "    if prnt:\n",
    "        st = ''\n",
    "        for pep in final:\n",
    "            for i, mass in enumerate(calcMass(pep, total=False)):\n",
    "                if i != 0:\n",
    "                    st += '-'\n",
    "                st += str(mass)\n",
    "            st += ' '\n",
    "        print(st)\n",
    "    if ret:\n",
    "        return final"
   ]
  },
  {
   "cell_type": "code",
   "execution_count": 6,
   "metadata": {},
   "outputs": [
    {
     "name": "stdout",
     "output_type": "stream",
     "text": [
      "128-147-137-99-101-115-129-186 101-115-129-186-128-147-137-99 115-101-99-137-147-128-186-129 147-128-186-129-115-101-99-137 129-115-101-99-137-147-128-186 137-147-128-186-129-115-101-99 129-186-128-147-137-99-101-115 101-99-137-147-128-186-129-115 186-129-115-101-99-137-147-128 137-99-101-115-129-186-128-147 99-101-115-129-186-128-147-137 99-137-147-128-186-129-115-101 128-186-129-115-101-99-137-147 186-128-147-137-99-101-115-129 115-129-186-128-147-137-99-101 147-137-99-101-115-129-186-128 \n",
      "Wall time: 4.27 s\n"
     ]
    }
   ],
   "source": [
    "%%time\n",
    "# test/run cycloPepSeq function\n",
    "\n",
    "# spec = [0, 113, 128, 186, 241, 299, 314, 427]\n",
    "# cycloPepSeq(spec, prnt=True, ret=False)\n",
    "\n",
    "with open(\"Data/dataset_100_6.txt\") as inFile:\n",
    "    data = inFile.readlines()\n",
    "\n",
    "data = data[0].strip().split(' ')\n",
    "data = [int(x) for x in data]\n",
    "cycloPepSeq(data, prnt=True, ret=False)"
   ]
  },
  {
   "cell_type": "markdown",
   "metadata": {},
   "source": [
    "Now that we can generate possible peptides based on a given spectrum can we predict Tyrocidine B1 (VKLFPWFNQY) from its spectrum. **YES**"
   ]
  },
  {
   "cell_type": "code",
   "execution_count": 10,
   "metadata": {},
   "outputs": [
    {
     "name": "stdout",
     "output_type": "stream",
     "text": [
      "['QNFWPFLQVY', 'PFLQVYQNFW', 'FWPFLQVYQN', 'LQVYQNFWPF', 'WPFLQVYQNF', 'NFWPFLQVYQ', 'QLFPWFNQYV', 'VYQNFWPFLQ', 'FPWFNQYVQL', 'QVYQNFWPFL', 'FNQYVQLFPW', 'YVQLFPWFNQ', 'VQLFPWFNQY', 'QYVQLFPWFN', 'NQYVQLFPWF', 'FLQVYQNFWP', 'YQNFWPFLQV', 'PWFNQYVQLF', 'LFPWFNQYVQ', 'WFNQYVQLFP']\n"
     ]
    }
   ],
   "source": [
    "with open(\"Data/Tyrocidine_B1_theoretical_spectrum.txt\") as inFile:\n",
    "    data = inFile.readlines()\n",
    "    data = [int(x) for x in data[0].split(' ')]\n",
    "print(cycloPepSeq(data))"
   ]
  },
  {
   "cell_type": "markdown",
   "metadata": {},
   "source": [
    "###### Code below is to answer quiz questions"
   ]
  },
  {
   "cell_type": "code",
   "execution_count": 29,
   "metadata": {},
   "outputs": [
    {
     "name": "stdout",
     "output_type": "stream",
     "text": [
      "CCACGUACUGAAAUUAAC\n",
      "CCGAGGACCGAAAUCAAC\n",
      "\n",
      "CYCLIC combos: 288\n",
      "\n",
      "186\n",
      "\n",
      "ALTM\n",
      "MAIT\n",
      "\n",
      "TVQ\n",
      "ETC\n",
      "TCQ\n"
     ]
    }
   ],
   "source": [
    "# 2\n",
    "seq = ['CCACGUACUGAAAUUAAC',\n",
    "       'CCAAGAACAGAUAUCAAU',\n",
    "       'CCAAGUACAGAGAUUAAC',\n",
    "       'CCGAGGACCGAAAUCAAC']\n",
    "\n",
    "for s in seq:\n",
    "    if proteinTrans(s) == 'PRTEIN':\n",
    "        print(s)\n",
    "\n",
    "# 3\n",
    "with open(\"Data/rnaToAmino.txt\") as inFile:\n",
    "    data = inFile.readlines()\n",
    "data = [x.strip() for x in data]\n",
    "aaDict = {}\n",
    "for x in data:\n",
    "    codon, aa = x.split(' ')\n",
    "    if aa not in aaDict:\n",
    "        aaDict[aa] = 1\n",
    "    else:\n",
    "        aaDict[aa] += 1\n",
    "res = 1\n",
    "for aa in 'CYCLIC':\n",
    "    res *= aaDict[aa]\n",
    "print(f\"\\nCYCLIC combos: {res}\\n\")\n",
    "\n",
    "# 4\n",
    "print(calcMass('W'))\n",
    "print()\n",
    "\n",
    "# 5\n",
    "peps = ['MLAT',\n",
    "        'ALTM',\n",
    "        'TAIM',\n",
    "        'MTAI',\n",
    "        'TMLA',\n",
    "        'MAIT']\n",
    "\n",
    "for pep in peps:\n",
    "    if cyclicSpectrum(pep) == [0, 71, 101, 113, 131, 184, 202, 214, 232, 285, 303, 315, 345, 416]:\n",
    "        print(pep)\n",
    "        \n",
    "# 6\n",
    "print(\"\")   \n",
    "peps = ['QCV',\n",
    "        'AVQ',\n",
    "        'TVQ',\n",
    "        'TCE',\n",
    "        'ETC',\n",
    "        'TCQ']\n",
    "\n",
    "for pep in peps:\n",
    "    if specComp(pep, [0, 71, 99, 101, 103, 128, 129, 199, 200, 204, 227, 230, 231, 298, 303, 328, 330, 332, 333]):\n",
    "        print(pep)"
   ]
  }
 ],
 "metadata": {
  "kernelspec": {
   "display_name": "Python 3",
   "language": "python",
   "name": "python3"
  },
  "language_info": {
   "codemirror_mode": {
    "name": "ipython",
    "version": 3
   },
   "file_extension": ".py",
   "mimetype": "text/x-python",
   "name": "python",
   "nbconvert_exporter": "python",
   "pygments_lexer": "ipython3",
   "version": "3.7.9"
  }
 },
 "nbformat": 4,
 "nbformat_minor": 4
}
