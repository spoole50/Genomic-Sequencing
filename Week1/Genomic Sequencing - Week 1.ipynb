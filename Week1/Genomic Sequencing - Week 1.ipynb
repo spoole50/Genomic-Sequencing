{
 "cells": [
  {
   "cell_type": "markdown",
   "metadata": {},
   "source": [
    "# Genomic Sequencing - Week 1\n",
    "\n",
    "**Newspaper Problem**<br>\n",
    "Imagine you had a bunch of pieces of a newspaper, could you reconstruct the entire paper from all the tiny snippets?<br>\n",
    "What if there were pieces from multiple copies of a paper, you could not reconstruct just like a puzzle. A better method would be to use overlapping fragments to re-construct.<br><br>\n",
    "How does this relate to biology?<br>\n",
    "Sequencing nucleotides from an organism does not occur like reading a book (beginning to end). Instead the best technique available is to sequence short DNA fragments called **reads**.\n",
    "\n",
    "Traditional Method for DNA Sequencing:\n",
    "* Take small tissue or blood sample containing millions of cells with identical DNA and use a biochemical method to break the DNA into fragments. Sequence these fragments to produce many reads.\n",
    "\n",
    "The problem with this is you do not know where in the genome each read comes from. Putting the genome back together from the reads is called **genome assembly**\n",
    "\n",
    "<img src=\"img/sequencing_overview.png\" width=\"500\">\n",
    "\n",
    "Difficulties of Genome Assembly:\n",
    "1. You do not know which strand of the DNA a read derives from. Think about...Should you be using a read or the reverse compliment?\n",
    "2. Modern sequencing machines are not perfect and generate errors. This makes identifying all overlapping reads very difficult/impossible.\n",
    "3. Some regions of the genome might not be covered by reads or have a shallow read depth. Making a full reconstruction impossible.\n",
    "\n",
    "For our initial algorithms assume all reads are the same length k-mer for some value k. We will also assume, unrealistically, that all reads come from the same strand, have no error, and exhibit perfect coverage.\n",
    "\n",
    "First, a function that will generate all k-mers of a sequence"
   ]
  },
  {
   "cell_type": "code",
   "execution_count": 6,
   "metadata": {},
   "outputs": [],
   "source": [
    "def strComp(Text, k):\n",
    "    '''\n",
    "    String Composition\n",
    "    Given a string Text, generate its k-mer composition.\n",
    "    \n",
    "    Args:\n",
    "        Text (string): String to break into k-mer composition.\n",
    "        k (int): Length of k-mer to break Text into.\n",
    "        \n",
    "    Returns:\n",
    "        list[string]: Coposition collection of all k-mers of Text.\n",
    "    '''\n",
    "    kmers = []\n",
    "    for i in range(len(Text) - k + 1):\n",
    "        kmers.append(Text[i:i+k])\n",
    "    return kmers"
   ]
  },
  {
   "cell_type": "code",
   "execution_count": 5,
   "metadata": {},
   "outputs": [
    {
     "name": "stdout",
     "output_type": "stream",
     "text": [
      "CAATC\n",
      "AATCC\n",
      "ATCCA\n",
      "TCCAA\n",
      "CCAAC\n"
     ]
    }
   ],
   "source": [
    "# test/run strComp function\n",
    "print(*strComp('CAATCCAAC', 5), sep=\"\\n\")\n",
    "\n",
    "# with open(\"./Data/dataset_197_3.txt\") as inFile:\n",
    "#     data = inFile.readlines()\n",
    "    \n",
    "# res = strComp(int(data[0].strip()), data[1].strip())\n",
    "# with open(\"./Data/dataset_197_3_RES.txt\", 'w') as outFile:\n",
    "#     for seq in res:\n",
    "#         outFile.write(seq + \"\\n\")"
   ]
  },
  {
   "cell_type": "markdown",
   "metadata": {},
   "source": [
    "Solving the String Composition Problem is pretty straightforward, but the end goal basically requires doing the opposite. We need to be able to take a list of k-mers and generate the full string, called the **string reconstruction problem**. This becomes increasingly difficult when there are repeated k-mers.\n",
    "\n",
    "Starting with a bit of an easier problem, given a list of k-mers (genome path). Recreate the genome.\n",
    "* A **Genome Path** is a list of k-mers in order by how they appear in the genome**\n",
    "<img src=\"img/path_graph.png\">"
   ]
  },
  {
   "cell_type": "code",
   "execution_count": 10,
   "metadata": {},
   "outputs": [],
   "source": [
    "def pathToGenome(path):\n",
    "    '''\n",
    "    String spelled by a Genome Path\n",
    "    Reconstruct a sequence from compoment genomic path.\n",
    "    \n",
    "    Args:\n",
    "        path (list[string]): Sequence of k-mers where last k-1\n",
    "            symbols (suffix) of an element is equal to the first\n",
    "            k-1 sympols (prefix) of the sequential element.\n",
    "            \n",
    "    Returns:\n",
    "        string: Reconstruted sequence from component k-mers.\n",
    "    '''\n",
    "    geno = ''\n",
    "    for seq in path:\n",
    "        geno += seq[0]\n",
    "    return geno + seq[1:]"
   ]
  },
  {
   "cell_type": "code",
   "execution_count": 11,
   "metadata": {},
   "outputs": [
    {
     "data": {
      "text/plain": [
       "'ACCGAAGCT'"
      ]
     },
     "execution_count": 11,
     "metadata": {},
     "output_type": "execute_result"
    }
   ],
   "source": [
    "# test/run pathToGenome function\n",
    "\n",
    "path = ['ACCGA', \n",
    "        'CCGAA',\n",
    "        'CGAAG',\n",
    "        'GAAGC',\n",
    "        'AAGCT']\n",
    "\n",
    "# with open(\"./Data/dataset_198_3.txt\") as inFile:\n",
    "#     data = inFile.readlines()\n",
    "    \n",
    "# path = []\n",
    "# for line in data:\n",
    "#     path.append(line.strip())\n",
    "    \n",
    "pathToGenome(path)"
   ]
  },
  {
   "cell_type": "markdown",
   "metadata": {},
   "source": [
    "Would you be able to reconstruct the genome path only knowing a random list of 3-mers?<br>\n",
    "\n",
    "**Overlap Graph**\n",
    "What if we were to represent each k-mer as a node. We construct a directed edge between two nodes IF the suffix (last k-1 nucleotides) of one node overlaps the prefix (first k-1 nucleotides) of another node.\n",
    "<img src=\"img/overlap_graph_alternate.png\" width=\"650\">\n",
    "\n",
    "How can we reconstruct the most likely sequence from an overlap graph?<br>\n",
    "We want to find the path that goes through the graph visiting each node exactly once\n",
    "\n",
    "**Representing a Graph Programmatically**<br>\n",
    "The only information required is to store a pair of nodes that each edge connects<br>\n",
    "Two standard ways to represent a graph:\n",
    "1. For a Directed Graph => the n x n **Adjacency Matrix** $A_{i,j}$. Where $A_{i,j}=1$ if a directed edge connects node i to node j\n",
    "2. An **Adjacency List** => a list of all nodes and which nodes they connect to\n",
    "\n",
    "<img src=\"img/graph_adjmat_adjlist.png\" width=\"450\">"
   ]
  },
  {
   "cell_type": "code",
   "execution_count": 12,
   "metadata": {},
   "outputs": [],
   "source": [
    "from graphviz import Digraph\n",
    "\"img/overlap_graph_alternate.png\"\n",
    "import os\n",
    "os.environ[\"PATH\"] += os.pathsep + '/Users/shane/Downloads/graphviz-2.44.1-win32/Graphviz/bin/'\n",
    "\n",
    "def overlap(pattern, prnt=False, genGraph=False, ret=True):\n",
    "    '''\n",
    "    Overlap Graph\n",
    "    Generate overlap graph for a given collection of k-mers\n",
    "    \n",
    "    Args:\n",
    "        pattern (list[string]): List of k-mers to generate the overlap graph from.\n",
    "        prnt (bool, optional): Defualts to False. Prints formatted adjacency list if True.\n",
    "        genGraph (bool, optional): Defualts to False. Prints visual overlap graph if True.\n",
    "        ret (bool, optional): Defaults to True. Returns adjacency list.\n",
    "        \n",
    "    Returns:\n",
    "        dict[string] = list[string], optional: Mapping of nodes to edges of overlap graph.\n",
    "    '''\n",
    "    k = len(pattern[0]) - 1\n",
    "    edges = dict()\n",
    "    for cKmer in pattern:\n",
    "        suf = cKmer[len(cKmer)-k:]\n",
    "        for xKmer in pattern:\n",
    "            pre = xKmer[:k]\n",
    "            if suf == pre:\n",
    "                if cKmer not in edges:\n",
    "                    edges[cKmer] = [xKmer]\n",
    "                else:\n",
    "                    edges[cKmer].append(xKmer)\n",
    "    if prnt:\n",
    "        for key in edges:\n",
    "            for edg in edges[key]:\n",
    "                print(f\"{key} -> {edg}\")\n",
    "    if genGraph:\n",
    "        ov = Digraph()\n",
    "        for key in edges:\n",
    "            for edg in edges[key]:\n",
    "                ov.edge(key, edg)\n",
    "        return ov\n",
    "    if ret: \n",
    "        return edges"
   ]
  },
  {
   "cell_type": "code",
   "execution_count": 18,
   "metadata": {},
   "outputs": [
    {
     "name": "stdout",
     "output_type": "stream",
     "text": [
      "GCATG -> CATGC\n",
      "CATGC -> ATGCG\n",
      "AGGCA -> GGCAT\n",
      "AGGCA -> GGCAC\n",
      "GGCAT -> GCATG\n"
     ]
    },
    {
     "data": {
      "image/svg+xml": [
       "<?xml version=\"1.0\" encoding=\"UTF-8\" standalone=\"no\"?>\r\n",
       "<!DOCTYPE svg PUBLIC \"-//W3C//DTD SVG 1.1//EN\"\r\n",
       " \"http://www.w3.org/Graphics/SVG/1.1/DTD/svg11.dtd\">\r\n",
       "<!-- Generated by graphviz version 2.44.1 (20200629.0800)\r\n",
       " -->\r\n",
       "<!-- Pages: 1 -->\r\n",
       "<svg width=\"198pt\" height=\"332pt\"\r\n",
       " viewBox=\"0.00 0.00 198.44 332.00\" xmlns=\"http://www.w3.org/2000/svg\" xmlns:xlink=\"http://www.w3.org/1999/xlink\">\r\n",
       "<g id=\"graph0\" class=\"graph\" transform=\"scale(1 1) rotate(0) translate(4 328)\">\r\n",
       "<polygon fill=\"white\" stroke=\"transparent\" points=\"-4,4 -4,-328 194.44,-328 194.44,4 -4,4\"/>\r\n",
       "<!-- GCATG -->\r\n",
       "<g id=\"node1\" class=\"node\">\r\n",
       "<title>GCATG</title>\r\n",
       "<ellipse fill=\"none\" stroke=\"black\" cx=\"42.9\" cy=\"-162\" rx=\"42.79\" ry=\"18\"/>\r\n",
       "<text text-anchor=\"middle\" x=\"42.9\" y=\"-158.3\" font-family=\"Times New Roman,serif\" font-size=\"14.00\">GCATG</text>\r\n",
       "</g>\r\n",
       "<!-- CATGC -->\r\n",
       "<g id=\"node2\" class=\"node\">\r\n",
       "<title>CATGC</title>\r\n",
       "<ellipse fill=\"none\" stroke=\"black\" cx=\"42.9\" cy=\"-90\" rx=\"42.49\" ry=\"18\"/>\r\n",
       "<text text-anchor=\"middle\" x=\"42.9\" y=\"-86.3\" font-family=\"Times New Roman,serif\" font-size=\"14.00\">CATGC</text>\r\n",
       "</g>\r\n",
       "<!-- GCATG&#45;&gt;CATGC -->\r\n",
       "<g id=\"edge1\" class=\"edge\">\r\n",
       "<title>GCATG&#45;&gt;CATGC</title>\r\n",
       "<path fill=\"none\" stroke=\"black\" d=\"M42.9,-143.7C42.9,-135.98 42.9,-126.71 42.9,-118.11\"/>\r\n",
       "<polygon fill=\"black\" stroke=\"black\" points=\"46.4,-118.1 42.9,-108.1 39.4,-118.1 46.4,-118.1\"/>\r\n",
       "</g>\r\n",
       "<!-- ATGCG -->\r\n",
       "<g id=\"node3\" class=\"node\">\r\n",
       "<title>ATGCG</title>\r\n",
       "<ellipse fill=\"none\" stroke=\"black\" cx=\"42.9\" cy=\"-18\" rx=\"42.79\" ry=\"18\"/>\r\n",
       "<text text-anchor=\"middle\" x=\"42.9\" y=\"-14.3\" font-family=\"Times New Roman,serif\" font-size=\"14.00\">ATGCG</text>\r\n",
       "</g>\r\n",
       "<!-- CATGC&#45;&gt;ATGCG -->\r\n",
       "<g id=\"edge2\" class=\"edge\">\r\n",
       "<title>CATGC&#45;&gt;ATGCG</title>\r\n",
       "<path fill=\"none\" stroke=\"black\" d=\"M42.9,-71.7C42.9,-63.98 42.9,-54.71 42.9,-46.11\"/>\r\n",
       "<polygon fill=\"black\" stroke=\"black\" points=\"46.4,-46.1 42.9,-36.1 39.4,-46.1 46.4,-46.1\"/>\r\n",
       "</g>\r\n",
       "<!-- AGGCA -->\r\n",
       "<g id=\"node4\" class=\"node\">\r\n",
       "<title>AGGCA</title>\r\n",
       "<ellipse fill=\"none\" stroke=\"black\" cx=\"94.9\" cy=\"-306\" rx=\"43.59\" ry=\"18\"/>\r\n",
       "<text text-anchor=\"middle\" x=\"94.9\" y=\"-302.3\" font-family=\"Times New Roman,serif\" font-size=\"14.00\">AGGCA</text>\r\n",
       "</g>\r\n",
       "<!-- GGCAT -->\r\n",
       "<g id=\"node5\" class=\"node\">\r\n",
       "<title>GGCAT</title>\r\n",
       "<ellipse fill=\"none\" stroke=\"black\" cx=\"42.9\" cy=\"-234\" rx=\"42.79\" ry=\"18\"/>\r\n",
       "<text text-anchor=\"middle\" x=\"42.9\" y=\"-230.3\" font-family=\"Times New Roman,serif\" font-size=\"14.00\">GGCAT</text>\r\n",
       "</g>\r\n",
       "<!-- AGGCA&#45;&gt;GGCAT -->\r\n",
       "<g id=\"edge3\" class=\"edge\">\r\n",
       "<title>AGGCA&#45;&gt;GGCAT</title>\r\n",
       "<path fill=\"none\" stroke=\"black\" d=\"M82.57,-288.41C76.23,-279.87 68.36,-269.28 61.31,-259.79\"/>\r\n",
       "<polygon fill=\"black\" stroke=\"black\" points=\"63.9,-257.41 55.13,-251.47 58.28,-261.58 63.9,-257.41\"/>\r\n",
       "</g>\r\n",
       "<!-- GGCAC -->\r\n",
       "<g id=\"node6\" class=\"node\">\r\n",
       "<title>GGCAC</title>\r\n",
       "<ellipse fill=\"none\" stroke=\"black\" cx=\"146.9\" cy=\"-234\" rx=\"43.59\" ry=\"18\"/>\r\n",
       "<text text-anchor=\"middle\" x=\"146.9\" y=\"-230.3\" font-family=\"Times New Roman,serif\" font-size=\"14.00\">GGCAC</text>\r\n",
       "</g>\r\n",
       "<!-- AGGCA&#45;&gt;GGCAC -->\r\n",
       "<g id=\"edge4\" class=\"edge\">\r\n",
       "<title>AGGCA&#45;&gt;GGCAC</title>\r\n",
       "<path fill=\"none\" stroke=\"black\" d=\"M107.22,-288.41C113.57,-279.87 121.43,-269.28 128.48,-259.79\"/>\r\n",
       "<polygon fill=\"black\" stroke=\"black\" points=\"131.51,-261.58 134.66,-251.47 125.89,-257.41 131.51,-261.58\"/>\r\n",
       "</g>\r\n",
       "<!-- GGCAT&#45;&gt;GCATG -->\r\n",
       "<g id=\"edge5\" class=\"edge\">\r\n",
       "<title>GGCAT&#45;&gt;GCATG</title>\r\n",
       "<path fill=\"none\" stroke=\"black\" d=\"M42.9,-215.7C42.9,-207.98 42.9,-198.71 42.9,-190.11\"/>\r\n",
       "<polygon fill=\"black\" stroke=\"black\" points=\"46.4,-190.1 42.9,-180.1 39.4,-190.1 46.4,-190.1\"/>\r\n",
       "</g>\r\n",
       "</g>\r\n",
       "</svg>\r\n"
      ],
      "text/plain": [
       "<graphviz.dot.Digraph at 0x2492f662288>"
      ]
     },
     "execution_count": 18,
     "metadata": {},
     "output_type": "execute_result"
    }
   ],
   "source": [
    "# test/run overlap function\n",
    "\n",
    "pat = ['ATGCG',\n",
    "       'GCATG',\n",
    "       'CATGC',\n",
    "       'AGGCA',\n",
    "       'GGCAT',\n",
    "       'GGCAC']\n",
    "overlap(pat, prnt=True, genGraph=True, ret=False)\n",
    "\n",
    "# with open(\"./Data/dataset_198_10.txt\") as inFile:\n",
    "#     data = inFile.readlines()\n",
    "    \n",
    "# pat = []\n",
    "# for line in data:\n",
    "#     pat.append(line.strip())\n",
    "\n",
    "# overlap(pat, genGraph=True, ret=False)\n",
    "    \n",
    "# test = overlap(pat)\n",
    "# with open(\"./Data/dataset_198_10_RES.txt\", 'w') as outFile:\n",
    "#     for key in test:\n",
    "#         for edg in test[key]:\n",
    "#             outFile.write(key + \" -> \" + edg + \"\\n\")"
   ]
  },
  {
   "cell_type": "markdown",
   "metadata": {},
   "source": [
    "Now that we can generate the graph, how can we find the path that visits each node once (**Hamiltonian Path**)\n",
    "\n"
   ]
  },
  {
   "cell_type": "code",
   "execution_count": 27,
   "metadata": {},
   "outputs": [],
   "source": [
    "def DBFromString(Text, k, prnt=False, ret=True, output=None):\n",
    "    '''\n",
    "    De Bruijn Graph from a String\n",
    "    Generate the adjacency list of the De Bruijn graph for a given text.\n",
    "    \n",
    "    Args:\n",
    "        Text (string): Text to generate De Bruijn graph from.\n",
    "        k (int): Length of k-mer to use in building De Bruijn graph.\n",
    "        prnt (bool, optional): Defualts to False. Prints formatted adjacency list if True.\n",
    "        ret (bool, optional): Defaults to True. Returns adjacency list.\n",
    "        output (string, optional): Defualts to None. If not None, resulting adjacency list is written to the given filename.\n",
    "        \n",
    "    Returns:\n",
    "        dict[string] = list[string], optional: Mapping of nodes to edges of De Bruijn graph.\n",
    "    '''\n",
    "    path = dict()\n",
    "    k -= 1\n",
    "    for i in range(len(Text) - k):\n",
    "        kmer = Text[i:i+k]\n",
    "        if kmer not in path:\n",
    "            path[kmer] = [Text[i+1:i+k+1]]\n",
    "        else:\n",
    "            path[kmer].append(Text[i+1:i+k+1])\n",
    "\n",
    "    if prnt or output != None:\n",
    "        if output != None:\n",
    "            f = open(output, 'w')\n",
    "        for key in path:\n",
    "            res = path[key][0]\n",
    "            if len(path[key]) > 1:\n",
    "                    for i in range(1, len(path[key])):\n",
    "                        res += f\", {path[key][i]}\"\n",
    "            if prnt:\n",
    "                    print(f\"{key} -> {res}\")\n",
    "            if output != None:\n",
    "                f.write(f\"{key} -> {res}\\n\")\n",
    "        if output != None:\n",
    "            f.close()\n",
    "    if ret:\n",
    "        return path"
   ]
  },
  {
   "cell_type": "code",
   "execution_count": 28,
   "metadata": {},
   "outputs": [
    {
     "name": "stdout",
     "output_type": "stream",
     "text": [
      "AAG -> AGA, AGA\n",
      "AGA -> GAT\n",
      "GAT -> ATT\n",
      "ATT -> TTC\n",
      "TTC -> TCT\n",
      "TCT -> CTC, CTA\n",
      "CTC -> TCT\n",
      "CTA -> TAA\n",
      "TAA -> AAG\n"
     ]
    }
   ],
   "source": [
    "# test/run DBFromString function\n",
    "\n",
    "DBFromString('AAGATTCTCTAAGA', 4, prnt=True, ret=False)\n",
    "\n",
    "# with open(\"./Data/dataset_199_6.txt\") as inFile:\n",
    "#     data = inFile.readlines()\n",
    "    \n",
    "\n",
    "# DBFromString(data[1].strip(), int(data[0].strip()), prnt=True, ret=False, output=\"./Data/dataset_199_6_RES.txt\")"
   ]
  },
  {
   "cell_type": "markdown",
   "metadata": {},
   "source": [
    "We can generate a potential reconstruction if we find a path through the de Bruijn graph that visits each edge exactly once (**Eulerian Path**)\n",
    "\n",
    "So far we have generated the de Bruijn graph from a string now can you do that from a collection of k-mers"
   ]
  },
  {
   "cell_type": "code",
   "execution_count": 30,
   "metadata": {},
   "outputs": [],
   "source": [
    "def DBFromKmers(Patterns, ret=True, prnt=False, output=None):\n",
    "    '''\n",
    "    De Bruijn Graph from collection of k-mers\n",
    "    Generate the adjacency list of the De Bruijn graph for a collection of k-mers\n",
    "    \n",
    "    Args:\n",
    "        Patterns (list[strings]): Collection of k-mers to construct the De Bruijn graph from.\n",
    "        prnt (bool, optional): Defualts to False. Prints formatted adjacency list if True.\n",
    "        ret (bool, optional): Defaults to True. Returns adjacency list.\n",
    "        output (string, optional): Defualts to None. If not None, resulting adjacency list is written to the given filename.\n",
    "        \n",
    "    Returns:\n",
    "        dict[string] = list[string], optional: Mapping of nodes to edges of De Bruijn graph.\n",
    "    '''\n",
    "    k = len(Patterns[0])\n",
    "    kDict = dict()\n",
    "    for kmer in Patterns:\n",
    "        pre = kmer[:k-1]\n",
    "        suf = kmer[len(kmer) - k + 1:]\n",
    "        if pre not in kDict:\n",
    "            kDict[pre] = [suf]\n",
    "        else:\n",
    "            kDict[pre].append(suf)\n",
    "            \n",
    "    keySort = sorted(list(kDict.keys()))\n",
    "    if prnt or output != None:\n",
    "        if output != None:\n",
    "            f = open(output, 'w')\n",
    "        for key in keySort:\n",
    "            res = kDict[key][0]\n",
    "            if len(kDict[key]) > 1:\n",
    "                for i in range(1, len(kDict[key])):\n",
    "                    res += f\",{kDict[key][i]}\"\n",
    "            if prnt:\n",
    "                print(f\"{key} -> {res}\")\n",
    "            if output != None:\n",
    "                f.write(f\"{key} -> {res}\\n\")\n",
    "        if output != None:\n",
    "            f.close()\n",
    "    if ret:\n",
    "        return kDict"
   ]
  },
  {
   "cell_type": "code",
   "execution_count": 31,
   "metadata": {},
   "outputs": [
    {
     "name": "stdout",
     "output_type": "stream",
     "text": [
      "AGG -> GGG\n",
      "CAG -> AGG,AGG\n",
      "GAG -> AGG\n",
      "GGA -> GAG\n",
      "GGG -> GGG,GGA\n"
     ]
    }
   ],
   "source": [
    "# test/run DBFromKmers function\n",
    "\n",
    "pat = ['GAGG', 'CAGG', 'GGGG', 'GGGA', 'CAGG', 'AGGG', 'GGAG']\n",
    "DBFromKmers(pat,ret=False, prnt=True)\n",
    "\n",
    "# with open(\"./Data/dataset_200_8.txt\") as inFile:\n",
    "#     data = inFile.readlines()\n",
    "\n",
    "# pat = [x.strip() for x in data]\n",
    "# DBFromKmers(pat, ret=False, prnt=True, output=\"./Data/dataset_200_8_RES.txt\")"
   ]
  },
  {
   "cell_type": "markdown",
   "metadata": {},
   "source": [
    "Now we have two ways of solving the String Reconstruction Problem:\n",
    "1. Find the Hamiltonian path (visit all nodes once) in the overlap graph\n",
    "2. Find the Eulerian path (visit all edges once) in the de Bruijn graph\n",
    "\n",
    "Which is best? On a first glance the de Bruijn graph looks smaller and easier to work with however in a real assembly problem with millions of nodes all that matters is finding an efficient algorithm for reconstructing the genome. So whichever problem we can devise an efficient algorithm is the best."
   ]
  }
 ],
 "metadata": {
  "kernelspec": {
   "display_name": "Python 3",
   "language": "python",
   "name": "python3"
  },
  "language_info": {
   "codemirror_mode": {
    "name": "ipython",
    "version": 3
   },
   "file_extension": ".py",
   "mimetype": "text/x-python",
   "name": "python",
   "nbconvert_exporter": "python",
   "pygments_lexer": "ipython3",
   "version": "3.7.7"
  }
 },
 "nbformat": 4,
 "nbformat_minor": 4
}
