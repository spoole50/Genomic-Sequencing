{
 "cells": [
  {
   "cell_type": "markdown",
   "metadata": {},
   "source": [
    "# Genomic Sequencing - Week 4\n",
    "\n",
    "### How do we sequence antibiotics (Part II)?\n",
    "\n",
    "We have successfully reconstructed the Tyrocidine B1 peptide given its ideal spectrum. Realistically mass spectrometers produce noisy spectra that are not ideal usually having **false masses** and **missing masses**. A false mass if present in the experimental spectrum but absent from the theoretical spectrum; a missing mass is present in the theoretical spectrum but absent from the experimental spectrum.\n",
    "\n",
    "Example Theoretical and Experimental Spectrum of NQEL:<br>\n",
    "<img src=\"img/theoretical_simulated_spectrum_nqel.png\" width=\"600\">\n",
    "\n",
    "Any false or missing masses cause the current CyclopeptideSequencing function to throw out the correct peptide. How can we reformulate the function to handle experimental spectra with errors?\n",
    "\n",
    "We need to relax the requirement that a candidates theoretical spectrum must match the experimental one exactly. A **scoring function** that will select the peptide whose theoretical spectrum matches a given experimental one the most closely.\n",
    "Given a cyclic peptide and a spectrum, Score(peptide, spectrum) is the number of masses shared between cyclospectrum(peptide) and spectrum."
   ]
  },
  {
   "cell_type": "code",
   "execution_count": 3,
   "metadata": {},
   "outputs": [],
   "source": [
    "# Functions from previous Weeks\n",
    "mass_table = \"../Week3/Data/integer_mass_table.txt\"\n",
    "\n",
    "intMass = {}\n",
    "massInt = {}\n",
    "with open(mass_table) as inFile:\n",
    "    for key, mass in [x.strip().split(\" \") for x in inFile.readlines()]:\n",
    "        intMass[key] = int(mass)\n",
    "        massInt[int(mass)] = key\n",
    "    massInt[113] = 'I'\n",
    "    massInt[128] = 'K'\n",
    "\n",
    "def calcMass(peptide, total=True, ext=False):\n",
    "    if total:\n",
    "        if ext:\n",
    "            return(sum([ord(x) for x in peptide]))\n",
    "        else:\n",
    "            return sum([intMass[x] for x in peptide])\n",
    "    else:\n",
    "        return [intMass[x] for x in peptide]\n",
    "\n",
    "def linearSpectrum(peptide, isMassArray=False, isExt=False):\n",
    "    prefMass = [0]\n",
    "    for i in range(len(peptide)):\n",
    "        if isMassArray:\n",
    "            prefMass.append(prefMass[i] + peptide[i])\n",
    "        elif isExt:\n",
    "            prefMass.append(prefMass[i] + ord(peptide[i]))\n",
    "        else:\n",
    "            prefMass.append(prefMass[i] + intMass[peptide[i]])\n",
    "    linSpec = [0]\n",
    "    for i in range(len(prefMass)):\n",
    "        for j in range(i + 1, len(prefMass)):\n",
    "            linSpec.append(prefMass[j] - prefMass[i])\n",
    "    return sorted(linSpec)\n",
    "\n",
    "def cyclicSpectrum(peptide, isMassArray=False, isExt=False, prnt=False, ret=True):       \n",
    "    prefMass = [0]\n",
    "    for i in range(len(peptide)):\n",
    "        if isMassArray:\n",
    "            prefMass.append(prefMass[i] + peptide[i])\n",
    "        elif isExt:\n",
    "            prefMass.append(prefMass[i] + ord(peptide[i]))\n",
    "        else:\n",
    "            prefMass.append(prefMass[i] + intMass[peptide[i]])\n",
    "    pepMass = prefMass[len(peptide)]\n",
    "    cycSpec = [0]\n",
    "    for i in range(len(prefMass)):\n",
    "        for j in range(i+1, len(prefMass)):\n",
    "            cycSpec.append(prefMass[j] - prefMass[i])\n",
    "            if i > 0 and j < len(peptide):\n",
    "                cycSpec.append(pepMass - cycSpec[-1])\n",
    "    cycSpec = sorted(cycSpec)\n",
    "    if prnt:\n",
    "        print(*cycSpec, sep=\" \")\n",
    "    if ret:\n",
    "        return cycSpec\n",
    "    \n",
    "def pepToMassString(peptide):\n",
    "    return '-'.join([str(intMass[amino]) for amino in peptide])"
   ]
  },
  {
   "cell_type": "code",
   "execution_count": 6,
   "metadata": {},
   "outputs": [],
   "source": [
    "def score(tSpec, spectrum):\n",
    "    '''\n",
    "    Score a theotritcal spectrum against the experimental spectrum.\n",
    "    Return number of masses that overlap between the given throretical spectrum and experimental spectrum.\n",
    "    \n",
    "    Args:\n",
    "        tSpec (list[int]): Linear or Cyclic theoretical spectrum of a peptide.\n",
    "        spectrum (list[int]): Experimental spectrum of the peptide of interest.\n",
    "        \n",
    "    Returns:\n",
    "        (int): Number of overlapping masses between the two spectrums.\n",
    "    '''\n",
    "    res = []\n",
    "    temp = spectrum[:]\n",
    "    for mass in tSpec[:]:\n",
    "        if mass in temp:\n",
    "            res.append(mass)\n",
    "            tSpec.remove(mass)\n",
    "            temp.remove(mass)\n",
    "    return len(res)"
   ]
  },
  {
   "cell_type": "code",
   "execution_count": 5,
   "metadata": {},
   "outputs": [
    {
     "data": {
      "text/plain": [
       "260"
      ]
     },
     "execution_count": 5,
     "metadata": {},
     "output_type": "execute_result"
    }
   ],
   "source": [
    "# test/run score function\n",
    "\n",
    "# spec = [0, 99, 113, 114, 128, 227, 257, 299, 355, 356, 370, 371, 484]\n",
    "# score('NQEL', spec)\n",
    "\n",
    "# with open(\"./Data/dataset_102_3.txt\") as inFile:\n",
    "with open(\"./Data/dataset_4913_1.txt\") as inFile:\n",
    "    data = inFile.readlines()\n",
    "\n",
    "pep = data[0].strip()\n",
    "spec = [int(x) for x in data[1].strip().split(' ')]\n",
    "score(linearSpectrum(pep), spec)"
   ]
  },
  {
   "cell_type": "markdown",
   "metadata": {},
   "source": [
    "Redefining our problem to Cyclopeptide Sequencing for spectra with errors. Since the original function had a strict bounding step and removed all candidate linear peptides having inconsistent spectra. We should revise to include more candidate linear peptides without getting out of control. Utilizing a leaderboard to hold the N highest scoring candidates at each iteration and extend those."
   ]
  },
  {
   "cell_type": "code",
   "execution_count": 7,
   "metadata": {},
   "outputs": [],
   "source": [
    "def trim(leadBoard, spectrum, N, isMassArray=False, isExt=False):\n",
    "    '''\n",
    "    Trim list of candidate peptides to only the top results.\n",
    "    Peptides are scored based on linearSpectrum.\n",
    "    The Score for the Nth peptide (when sorted from largest to smallest score) is saved\n",
    "        and all peptides with this score or higher are returned.\n",
    "        \n",
    "    Args:\n",
    "        leadBoard (list[string] or list[list[int]]): List of candidate peptides in string or mass array format.\n",
    "        spectrum (list[int]): Experimental spectrum of the peptide of interest.\n",
    "        N (int): Cutoff index for returned candidates.\n",
    "        isMassArray (bool, optional): Defaults to False. If True the given leaderboard is treated as a list of mass arrays.\n",
    "        isExt (bool, optional): Defualts to False. If True the peptides are generated from an extended amino acid table.\n",
    "        \n",
    "    Returns:\n",
    "        (list[string] or list[list[int]]): List of candidate peptides that have a linear spectrum with a score >= score(N).\n",
    "    '''\n",
    "    N -= 1\n",
    "    if len(leadBoard) <= N:\n",
    "        return leadBoard\n",
    "    linScore = []\n",
    "    for pep in leadBoard:\n",
    "        linScore.append((pep, score(linearSpectrum(pep, isMassArray=isMassArray, isExt=isExt), spectrum)))\n",
    "    linScore = sorted(linScore, key=lambda x:x[1], reverse=True)\n",
    "    tScore = linScore[N][1]\n",
    "    i = N + 1\n",
    "    while i < len(linScore) and linScore[i][1] >= tScore:\n",
    "        i +=1\n",
    "    return [x[0] for x in linScore[:i]]"
   ]
  },
  {
   "cell_type": "code",
   "execution_count": 8,
   "metadata": {},
   "outputs": [
    {
     "name": "stdout",
     "output_type": "stream",
     "text": [
      "ADLSLPWNVLGCCHRQQGDIYMDQQPLTPEKRPQWG MCDMRSGTYKVPKFSYIQDTVRHPVEMVKFYGAAMR GTNNTIPAIIVRALDQAVCTSTICWMVWSQQWCGDV CAWVCPFLDVEGRDCGNFWGGCLWYLHRQGCNPLEY KRFRNMEPDQSIFRRWNYIDDPIAIGNSHFMIRGMP\n"
     ]
    }
   ],
   "source": [
    "# test/run trim function\n",
    "\n",
    "# trim(['LAST', 'ALST', 'TLLT', 'TQAS'], [0, 71, 87, 101, 113, 158, 184, 188, 259, 271, 372], 2)\n",
    "\n",
    "with open(\"Data/dataset_4913_3.txt\") as inFile:\n",
    "    data = inFile.readlines()\n",
    "    lBoard = [x for x in data[0].strip().split(' ')]\n",
    "    spec = [int(x) for x in data[1].strip().split(' ')]\n",
    "    n = int(data[2].strip())\n",
    "print(*trim(lBoard, spec, n), sep=' ')"
   ]
  },
  {
   "cell_type": "code",
   "execution_count": 10,
   "metadata": {},
   "outputs": [],
   "source": [
    "aa = ['G', 'A', 'S', 'P', 'V', 'T', 'C', 'I', 'N', 'D', 'K', 'E', 'M', 'H', 'F', 'R', 'Y', 'W']\n",
    "masses = [57, 71, 87, 97, 99, 101, 103, 113, 114, 115, 128, 129, 131, 137, 147, 156, 163, 186]\n",
    "\n",
    "def leaderCyclopeptideSequencing(Spectrum, N):\n",
    "    '''\n",
    "    Find the most likely peptide that could produce the given experimental mass spectrum.\n",
    "    \n",
    "    Args:\n",
    "        Spectrum (list[int]): Experimental spectrum of the peptide of interest.\n",
    "        N (int): Cutoff index for returned candidates.\n",
    "        \n",
    "    Returns:\n",
    "        (string and list[strings]): Latest peptide to achieve a max cyclical spectrum score compared to the\n",
    "            experimental spectrum as well as a list of all candidate peptides that had the same max score.\n",
    "    '''\n",
    "    parentMass = max(Spectrum)\n",
    "    leaderPeptides = []\n",
    "    leader = None\n",
    "    maxCycloScore = 0\n",
    "    truePeptides = ['']\n",
    "    while truePeptides:\n",
    "        leaderboard = [pept + amino for pept in truePeptides for amino in aa]\n",
    "        truePeptides = []\n",
    "        for candidate in leaderboard:\n",
    "            candidateMass = calcMass(candidate)\n",
    "            if candidateMass == parentMass:\n",
    "                candidateCycloScore = score(cyclicSpectrum(candidate), Spectrum)\n",
    "                if candidateCycloScore >= maxCycloScore:\n",
    "                    if candidateCycloScore > maxCycloScore:\n",
    "                        leader = candidate\n",
    "                        maxCycloScore = candidateCycloScore\n",
    "                        leaderPeptides = [candidate]\n",
    "                    else:\n",
    "                        leaderPeptides.append(candidate)\n",
    "            if candidateMass <= parentMass:\n",
    "                truePeptides.append(candidate)\n",
    "        truePeptides = trim(truePeptides, Spectrum, N)\n",
    "    print(f\"Max CycloScore: {maxCycloScore}\\n# of candiate linear peptides: {len(leaderPeptides)}\")\n",
    "    return leader, leaderPeptides"
   ]
  },
  {
   "cell_type": "code",
   "execution_count": 7,
   "metadata": {},
   "outputs": [
    {
     "name": "stdout",
     "output_type": "stream",
     "text": [
      "Max CycloScore: 83\n",
      "# of candiate linear peptides: 38\n",
      "14\n",
      "Wall time: 5.38 s\n"
     ]
    }
   ],
   "source": [
    "%%time\n",
    "# test/run leaderCycloPepSeq function\n",
    "\n",
    "# spec = [0, 71, 113, 129, 147, 200, 218, 260, 313, 331, 347, 389, 460]\n",
    "# test, leads = leaderCyclopeptideSequencing(spec, 10)\n",
    "# print(pepToMassString(test))\n",
    "\n",
    "# with open(\"Data/dataset_102_8.txt\") as inFile:\n",
    "#     data = inFile.readlines()\n",
    "# n = int(data[0].strip())\n",
    "# spec = [int(x) for x in data[1].strip().split(' ')]\n",
    "# test, leads = leaderCyclopeptideSequencing(spec, n)\n",
    "# st = ''\n",
    "# for i, a in enumerate(test):\n",
    "#     if i != 0:\n",
    "#         st += '-'\n",
    "#     st += str(intMass[a])\n",
    "# print(st)\n",
    "\n",
    "# with open(\"Data/Tyrocidine_B1_Spectrum_25.txt\") as inFile:\n",
    "with open(\"Data/dataset_102_10.txt\") as inFile:\n",
    "    data = inFile.readlines()\n",
    "    data = [int(x) for x in data[1].strip().split(' ')]\n",
    "leader, leadList = leaderCyclopeptideSequencing(data, 1000)\n",
    "cycSet = set()\n",
    "for lead in leadList:\n",
    "    st = ''\n",
    "    cy = cyclicSpectrum(lead)\n",
    "    for i, mass in enumerate(cy):\n",
    "        if i != 0:\n",
    "            st += '-'\n",
    "        st += str(mass)\n",
    "    cycSet.add(st)\n",
    "print(len(cycSet))\n",
    "# print(*cycSet, sep=' ')"
   ]
  },
  {
   "cell_type": "markdown",
   "metadata": {},
   "source": [
    "So far we have considered just 20 amino acids that form the building blocks of proteins called **proteinogenic amino acids**. There are actually two more called **selenocysteine** and **pyrrolysine**. In addition to the 22 protinogenic, NRPs contain **non-proteinogenic amino acids**, expanding the possible number of building blocks for antibiotic peptides from 20 to over 100."
   ]
  },
  {
   "cell_type": "code",
   "execution_count": 17,
   "metadata": {},
   "outputs": [],
   "source": [
    "def leaderCyclopeptideSequencingExt(Spectrum, N, aa):\n",
    "    '''\n",
    "    Find the most likely peptide that could produce the given experimental mass spectrum constructed from the given set\n",
    "        of possible amino acids.\n",
    "        \n",
    "    Args:\n",
    "        Spectrum (list[int]): Experimental spectrum of the peptide of interest.\n",
    "        N (int): Cutoff index for returned candidates.\n",
    "        aa (list[string]): Set of amino acids that can be utilized to find potential candidate peptides.\n",
    "        \n",
    "    Returns:\n",
    "        (string and list[strings]): Latest peptide to achieve a max cyclical spectrum score compared to the\n",
    "            experimental spectrum as well as a list of all candidate peptides that had the same max score.\n",
    "    '''\n",
    "    parentMass = max(Spectrum)\n",
    "    leaderPeptides = []\n",
    "    leader = None\n",
    "    maxCycloScore = 0\n",
    "    truePeptides = ['']\n",
    "    while truePeptides:\n",
    "        leaderboard = [pept + amino for pept in truePeptides for amino in aa]\n",
    "        truePeptides = []\n",
    "        for candidate in leaderboard:\n",
    "            candidateMass = calcMass(candidate, ext=True)\n",
    "            if candidateMass == parentMass:\n",
    "                candidateCycloScore = score(cyclicSpectrum(candidate, isExt=True), Spectrum)\n",
    "                if candidateCycloScore >= maxCycloScore:\n",
    "                    if candidateCycloScore > maxCycloScore:\n",
    "                        leader = candidate\n",
    "                        maxCycloScore = candidateCycloScore\n",
    "                        leaderPeptides = [candidate]\n",
    "                    else:\n",
    "                        leaderPeptides.append(candidate)\n",
    "            if candidateMass <= parentMass:\n",
    "                truePeptides.append(candidate)\n",
    "        truePeptides = trim(truePeptides, Spectrum, N, isExt=True)\n",
    "    print(f\"Max CycloScore: {maxCycloScore}\\n# of candiate linear peptides: {len(leaderPeptides)}\")\n",
    "    return leader, leaderPeptides"
   ]
  },
  {
   "cell_type": "code",
   "execution_count": 18,
   "metadata": {},
   "outputs": [
    {
     "name": "stdout",
     "output_type": "stream",
     "text": [
      "Max CycloScore: 87\n",
      "# of candiate linear peptides: 34\n",
      "34\n",
      "Wall time: 53.4 s\n"
     ]
    }
   ],
   "source": [
    "%%time\n",
    "# test/run leaderCyclopeptideSequencingExt function\n",
    "\n",
    "aa = [chr(i) for i in range(57, 201)]\n",
    "with open(\"Data/Tyrocidine_B1_Spectrum_10.txt\") as inFile:\n",
    "    data = inFile.readlines()\n",
    "spec = [int(x) for x in data[0].strip().split(' ')]\n",
    "lead, leadList = leaderCyclopeptideSequencingExt(spec, 1000, aa)\n",
    "print(len(leadList))"
   ]
  },
  {
   "cell_type": "code",
   "execution_count": 19,
   "metadata": {},
   "outputs": [
    {
     "name": "stdout",
     "output_type": "stream",
     "text": [
      "113-147-97-186-147-114-128-98-65-99-128 147-97-186-147-114-128-98-65-99-128-113 128-113-147-97-186-147-114-128-98-65-99 114-147-186-97-147-113-128-99-65-98-128 128-99-163-128-114-147-113-73-97-147-113 128-114-147-186-97-147-113-128-99-65-98 147-186-97-147-113-128-99-65-98-128-114 99-163-128-114-147-124-62-97-147-113-128 147-114-128-163-99-128-113-147-97-73-113 97-186-147-114-128-98-65-99-128-113-147 99-163-128-114-147-113-73-97-147-113-128 99-163-128-114-147-186-97-72-75-113-128 113-147-97-186-147-114-128-98-65-99-63-65 113-147-97-186-147-114-128-98-65-99-57-71 113-147-97-186-147-114-128-98-65-99-58-70 113-147-97-186-147-114-128-98-65-99-59-69 113-147-97-186-147-114-128-98-65-99-60-68 113-147-97-186-147-114-128-98-65-99-61-67 113-147-97-186-147-114-128-98-65-99-62-66 113-147-97-186-147-114-128-98-65-99-64-64 113-147-97-186-147-114-128-98-65-99-65-63 113-147-97-186-147-114-128-98-65-99-66-62 113-147-97-186-147-114-128-98-65-99-67-61 113-147-97-186-147-114-128-98-65-99-68-60 113-147-97-186-147-114-128-98-65-99-69-59 113-147-97-186-147-114-128-98-65-99-70-58 113-147-97-186-147-114-128-98-65-99-71-57 99-163-128-114-147-98-88-97-147-113-57-71 147-186-97-147-113-128-99-65-98-128-57-57 97-186-74-73-114-128-163-99-128-113-75-72 113-147-97-186-147-114-71-57-163-99-66-62 99-163-128-114-147-124-62-97-147-113-57-71 99-163-128-114-147-113-73-97-147-113-57-71 97-147-113-128-99-163-128-114-73-74-58-66-62\n"
     ]
    }
   ],
   "source": [
    "linPeps = []\n",
    "for pep in leadList:\n",
    "    st = ''\n",
    "    for i, amino in enumerate(pep):\n",
    "        if i != 0:\n",
    "            st += '-'\n",
    "        st += str(ord(amino))\n",
    "    linPeps.append(st)\n",
    "print(*linPeps, sep=' ')"
   ]
  },
  {
   "cell_type": "markdown",
   "metadata": {},
   "source": [
    "Given only an experimental spectrum how could you elucidate the amino acid composition? **Convolution** of a spectrum is the process of taking all positive differences of the masses in the spectrum.\n",
    "<img src=\"./img/spectral_convolution_nqel.png\" width=\"450\">"
   ]
  },
  {
   "cell_type": "code",
   "execution_count": 20,
   "metadata": {},
   "outputs": [],
   "source": [
    "def spectralConvolution(spec):\n",
    "    '''\n",
    "    Calcualte the convolution of a given experimetnal spectrum.\n",
    "    Convolution = all positive differences of masses in the spectrum.\n",
    "    \n",
    "    Args:\n",
    "        spec (list[int]): Experimental spectrum of the peptide of interest.\n",
    "    \n",
    "    Returns:\n",
    "        (list[int]): List of all positive mass differences within the experimental spectrum.\n",
    "    '''\n",
    "    res = []\n",
    "    for i in range(len(spec)):\n",
    "        for x in range(len(spec)):\n",
    "            if i != x:\n",
    "                mass = spec[i] - spec[x]\n",
    "                if mass > 0:\n",
    "                    res.append(mass)\n",
    "    return res"
   ]
  },
  {
   "cell_type": "code",
   "execution_count": 21,
   "metadata": {},
   "outputs": [
    {
     "data": {
      "text/plain": [
       "[137, 186, 49, 323, 186, 137]"
      ]
     },
     "execution_count": 21,
     "metadata": {},
     "output_type": "execute_result"
    }
   ],
   "source": [
    "spec = [0, 137, 186, 323]\n",
    "spectralConvolution(spec)\n",
    "\n",
    "# with open(\"Data/dataset_104_4.txt\") as inFile:\n",
    "#     data = inFile.readlines()\n",
    "#     spec = [int(x) for x in data[0].strip().split(' ')]\n",
    "# print(*spectralConvolution(spec), sep=' ')"
   ]
  },
  {
   "cell_type": "code",
   "execution_count": 35,
   "metadata": {},
   "outputs": [],
   "source": [
    "def convolutionCyclopeptideSequencing(M, N, spec):\n",
    "    '''\n",
    "    Find the most likely peptide that could produce the given experimental mass spectrum constructed from the\n",
    "        most likely masses within the spectrum convolution.\n",
    "        \n",
    "    Args:\n",
    "        M (int): Number of top elements to keep from the spectrum convolution.\n",
    "        N (int): Cutoff index for returned candidates.\n",
    "        spec (list[int]): Experimental spectrum of the peptide of interest.\n",
    "    \n",
    "    Returns:\n",
    "        (string and list[strings]): Latest peptide to achieve a max cyclical spectrum score compared to the\n",
    "            experimental spectrum as well as a list of all candidate peptides that had the same max score.\n",
    "    '''\n",
    "    convoDict = {}\n",
    "    spec = sorted(spec)\n",
    "    convo = spectralConvolution(spec)\n",
    "    for mass in convo:\n",
    "        if mass not in convoDict:\n",
    "            convoDict[mass] = 1\n",
    "        else:\n",
    "            convoDict[mass] += 1\n",
    "    convoDict = sorted(list(convoDict.items()), key=lambda x: x[1], reverse=True)\n",
    "    aa = [chr(mass) for mass, freq in convoDict if 57 <= mass <= 200 and freq >= 2]\n",
    "    return leaderCyclopeptideSequencingExt(spec, N, aa)"
   ]
  },
  {
   "cell_type": "code",
   "execution_count": 36,
   "metadata": {},
   "outputs": [
    {
     "name": "stdout",
     "output_type": "stream",
     "text": [
      "Max CycloScore: 21\n",
      "# of candiate linear peptides: 8\n",
      "99-71-137-57-57-72\n",
      "Wall time: 74 ms\n"
     ]
    }
   ],
   "source": [
    "%%time\n",
    "spec = [57, 57, 71, 99, 129, 137, 170, 186, 194, 208, 228, 265, 285, 299, 307, 323, 356, 364, 394, 422, 493]\n",
    "lead, leaders = convolutionCyclopeptideSequencing(20, 60, spec)\n",
    "\n",
    "# with open(\"Data/dataset_104_7.txt\") as inFile:\n",
    "#     data = inFile.readlines()\n",
    "#     M = int(data[0].strip())\n",
    "#     N = int(data[1].strip())\n",
    "#     spec = [int(x) for x in data[2].strip().split(' ')]\n",
    "\n",
    "# with open(\"Data/Tyrocidine_B1_Spectrum_25.txt\") as inFile:\n",
    "#     data = inFile.readlines()\n",
    "#     spec = [int(x) for x in data[0].strip().split(' ')]\n",
    "# convolutionCyclopeptideSequencing(20, 1000, spec)\n",
    "    \n",
    "# # convolutionCyclopeptideSequencing(M, N, spec)\n",
    "\n",
    "st = ''\n",
    "for i, aa in enumerate(lead):\n",
    "    if i != 0:\n",
    "        st += '-'\n",
    "    st += str(ord(aa))\n",
    "print(st)"
   ]
  },
  {
   "cell_type": "markdown",
   "metadata": {},
   "source": [
    "###### Quiz"
   ]
  },
  {
   "cell_type": "code",
   "execution_count": 25,
   "metadata": {},
   "outputs": [
    {
     "name": "stdout",
     "output_type": "stream",
     "text": [
      "#3 Cyclic Score of MAMA: 8\n",
      "#4 Linear Score of PEEP: 8\n",
      "#5 Element with highest multiplicity: 61\n"
     ]
    }
   ],
   "source": [
    "# 3\n",
    "print(f\"#3 Cyclic Score of MAMA: {score(cyclicSpectrum('MAMA'), [0, 71, 178, 202, 202, 202, 333, 333, 333, 404, 507, 507])}\")\n",
    "\n",
    "# 4\n",
    "print(f\"#4 Linear Score of PEEP: {score(linearSpectrum('PEEP'), [0, 97, 97, 129, 194, 196, 226, 226, 244, 258, 323, 323, 452])}\")\n",
    "\n",
    "# 5\n",
    "specConv = spectralConvolution([0, 57, 118, 179, 236, 240, 301])\n",
    "convDict = {}\n",
    "for mass in specConv:\n",
    "    if mass not in convDict:\n",
    "        convDict[mass] = 1\n",
    "    else:\n",
    "        convDict[mass] += 1\n",
    "print(f\"#5 Element with highest multiplicity: {sorted(list(convDict.items()), key=lambda x: x[1], reverse=True)[0][0]}\")"
   ]
  },
  {
   "cell_type": "markdown",
   "metadata": {},
   "source": [
    "###### Bioinformatics Application Challenge"
   ]
  },
  {
   "cell_type": "code",
   "execution_count": 1,
   "metadata": {},
   "outputs": [],
   "source": [
    "def ngStatCalc(contigs, N=0.5, totalLen=None):\n",
    "    '''\n",
    "    Calculate NXX, NGXX given a collection of contigs and N.\n",
    "    \n",
    "    Args:\n",
    "        contigs (list[int]): Collection of contig lengths.\n",
    "        N (int, optional): Default to 0.5. Fraction to determine (ex. N50 = 0.5, N75 = 0.75).\n",
    "        totalLen (int, optional): Default to None. Total length of genome for NGXX calcualtion.\n",
    "        \n",
    "    Returns:\n",
    "        (int): Length of contig in which all contigs of the same length or greater represent\n",
    "            N percentage of the total nucleotides.\n",
    "    '''\n",
    "    contigs = sorted(contigs, reverse=True)\n",
    "    i = 0\n",
    "    track = contigs[i]\n",
    "    if not totalLen:\n",
    "        totalLen = sum(contigs)\n",
    "#     print(f\"totalLen: {totalLen}\")\n",
    "    while track/totalLen < N:\n",
    "        i += 1\n",
    "        track += contigs[i]\n",
    "    return contigs[i]"
   ]
  },
  {
   "cell_type": "code",
   "execution_count": 5,
   "metadata": {},
   "outputs": [
    {
     "name": "stdout",
     "output_type": "stream",
     "text": [
      "N50: 100\n",
      "N75: 60\n",
      "NG50 with length 1000: 60\n",
      "NGA50: 50\n"
     ]
    }
   ],
   "source": [
    "# Compute N50 and N75 for the following contigs\n",
    "contigs = [20,20,30,30,60,60,80,100,200]\n",
    "print(f\"N50: {ngStatCalc(contigs)}\")\n",
    "print(f\"N75: {ngStatCalc([20,20,30,30,60,60,80,100,200], N=0.75)}\")\n",
    "print(f\"NG50 with length 1000: {ngStatCalc(contigs, totalLen=1000)}\")\n",
    "print(f\"NGA50: {ngStatCalc([20,20,30,30,50,50,60,60,80,200], totalLen=1000)}\")"
   ]
  },
  {
   "cell_type": "code",
   "execution_count": null,
   "metadata": {},
   "outputs": [],
   "source": []
  }
 ],
 "metadata": {
  "kernelspec": {
   "display_name": "Python 3",
   "language": "python",
   "name": "python3"
  },
  "language_info": {
   "codemirror_mode": {
    "name": "ipython",
    "version": 3
   },
   "file_extension": ".py",
   "mimetype": "text/x-python",
   "name": "python",
   "nbconvert_exporter": "python",
   "pygments_lexer": "ipython3",
   "version": "3.8.5"
  }
 },
 "nbformat": 4,
 "nbformat_minor": 4
}
