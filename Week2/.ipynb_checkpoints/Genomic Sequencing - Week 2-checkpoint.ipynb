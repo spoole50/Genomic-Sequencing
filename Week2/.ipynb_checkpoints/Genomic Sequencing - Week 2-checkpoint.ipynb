{
 "cells": [
  {
   "cell_type": "markdown",
   "metadata": {},
   "source": [
    "# Genomic Sequencing - Week 2\n",
    "\n",
    "**Euler's Method**<br>\n",
    "Since finding a Hamiltonian path through a graph is an **NP-Complete** problem we will focus on solving the Eulerian Cycle Problem.<br>\n",
    "Euler worked with undirected graphs but we will consider a directed graph to apply towards genome assembly problem.<br>\n",
    "Eulerian Graph Characteristics:\n",
    "1. Any Eulerian graph must be balanced\n",
    "    * Number of incoming edges at any node must equal the outgoing edges at that node.\n",
    "        * **indegree** = # of edges leading into a node\n",
    "        * **outdegree** = # of edges leading out of a node\n",
    "    * A node is **balanced** when in(v) = out(v)\n",
    "    * A graph is **balanced** if all the nodes within are balanced\n",
    "2. Eulerian graphs must be strongly connected\n",
    "    * A graph is **strongly connected** if it is possible to reach any node from every other node\n",
    "    * No **disconnected** nodes, nodes that cannot be reached from other nodes"
   ]
  },
  {
   "cell_type": "code",
   "execution_count": 1,
   "metadata": {},
   "outputs": [],
   "source": [
    "# From Previous Week\n",
    "def DBFromKmers(Patterns, ret=True, prnt=False, output=None):\n",
    "    k = len(Patterns[0])\n",
    "    kDict = dict()\n",
    "    for kmer in Patterns:\n",
    "        pre = kmer[:k-1]\n",
    "        suf = kmer[len(kmer) - k + 1:]\n",
    "        if pre not in kDict:\n",
    "            kDict[pre] = [suf]\n",
    "        else:\n",
    "            kDict[pre].append(suf)\n",
    "            \n",
    "    keySort = sorted(list(kDict.keys()))\n",
    "    if prnt or output != None:\n",
    "        if output != None:\n",
    "            f = open(output, 'w')\n",
    "        for key in keySort:\n",
    "            res = kDict[key][0]\n",
    "            if len(kDict[key]) > 1:\n",
    "                for i in range(1, len(kDict[key])):\n",
    "                    res += f\",{kDict[key][i]}\"\n",
    "            if prnt:\n",
    "                print(f\"{key} -> {res}\")\n",
    "            if output != None:\n",
    "                f.write(f\"{key} -> {res}\\n\")\n",
    "        if output != None:\n",
    "            f.close()\n",
    "    if ret:\n",
    "        return kDict\n",
    "    \n",
    "def pathToGenome(path):\n",
    "    geno = ''\n",
    "    for seq in path:\n",
    "        geno += seq[0]\n",
    "    return geno + seq[1:]"
   ]
  },
  {
   "cell_type": "markdown",
   "metadata": {},
   "source": [
    "#### Eulerian Cycle\n",
    "Cycle is a walk through the graph visiting only unused outgoing edges<br>\n",
    "<img src=\"./img/Leo_final_steps.png\" width=\"600\">\n",
    "\n",
    "1. Starting a walk from a random node we complete one cycle (Green)\n",
    "2. If not Eulerian, pick another node along that walk that has unused in/out nodes. Start at this new node and reconstruct the initial cycle and continue (Green + Blue)\n",
    "3. Continue this process until the cycle is Eulerian (Green + Blue + Red)"
   ]
  },
  {
   "cell_type": "code",
   "execution_count": 11,
   "metadata": {},
   "outputs": [],
   "source": [
    "import random as rd\n",
    "from collections import deque\n",
    "def graphListToDict(gList):\n",
    "    '''\n",
    "    Transform an adjacency list into a dictionary of nodes and out edges.\n",
    "    \n",
    "    Args:\n",
    "        gList (list[string]): List of nodes and out edges in a single line format [node -> edge1,edge2,etc..]\n",
    "    \n",
    "    Returns:\n",
    "        dict[string] = list[string]: Mapping of nodes to list of out edges.\n",
    "    '''\n",
    "    gList = [x.strip().split(' ') for x in gList]\n",
    "    gDict = dict()\n",
    "    for row in gList:\n",
    "        gDict[row[0]] = row[2].split(',')\n",
    "    return gDict\n",
    "\n",
    "def followTrail(start, graph):\n",
    "    '''\n",
    "    Given a start node, randomly traverse through graph on unused edges.\n",
    "    \n",
    "    Args:\n",
    "        start (string): First node to begin eulerian walk.\n",
    "        graph (dict[string] = list[string]): Graph to traverse.\n",
    "        \n",
    "    Returns:\n",
    "        list[string]: A random path from start traversing unused edges until none avalibale. \n",
    "    '''\n",
    "    res = []\n",
    "    pos = start\n",
    "    while pos:\n",
    "        res.append(pos)\n",
    "        if pos not in graph:\n",
    "            pos = False\n",
    "        else:\n",
    "            pos = rd.choice(graph[pos])\n",
    "            graph[res[-1]].remove(pos)\n",
    "        if res[-1] in graph and len(graph[res[-1]]) == 0:\n",
    "            graph.pop(res[-1], None)\n",
    "    return res\n",
    "\n",
    "def eulerianCycle(graph, start=None, ret=True, prnt=False, output=None):\n",
    "    '''\n",
    "    Eulerian Cycle\n",
    "    Determine a Eulerian Cycle within a given graph.\n",
    "    \n",
    "    Args:\n",
    "        graph (dict[string] = list[string]): Graph to find a Eulerian path within.\n",
    "        start (string, optional): Defualts to None. If set starts to find cycle at specified node.\n",
    "        ret (bool, optional): Defaults to True. Returns list of cycle.\n",
    "        prnt (bool, optional): Defualts to False. Prints formatted cycle if True.\n",
    "        output (string, optional): Defualts to None. If not None, resulting cycle is written to the given filename.\n",
    "        \n",
    "    Returns:\n",
    "        list[string], optional: List of the found Eulerian cycle. \n",
    "    '''\n",
    "    Q = deque()\n",
    "    if start == None:\n",
    "        start = rd.choice(list(graph.keys()))\n",
    "    Stak = deque(followTrail(start, graph))\n",
    "    while Stak:\n",
    "        t = Stak.pop()\n",
    "        if t not in graph:\n",
    "            Q.appendleft(t)\n",
    "        else:\n",
    "            Stak.extend(followTrail(t, graph))\n",
    "    \n",
    "    if prnt or output != None:\n",
    "        if prnt:\n",
    "            print(*list(Q), sep='->')\n",
    "        if output != None:\n",
    "            f = open(output, 'w')\n",
    "            for i, nd in enumerate(list(Q)):\n",
    "                if i != 0:\n",
    "                    f.write(\"->\")\n",
    "                f.write(nd)\n",
    "            f.write(\"\\n\")\n",
    "            f.close()\n",
    "    if ret:\n",
    "        return list(Q)"
   ]
  },
  {
   "cell_type": "code",
   "execution_count": 17,
   "metadata": {},
   "outputs": [
    {
     "name": "stdout",
     "output_type": "stream",
     "text": [
      "6->8->7->9->6->5->4->2->1->0->3->2->6\n"
     ]
    }
   ],
   "source": [
    "# test/run eulerianCycle function\n",
    "\n",
    "data = ['0 -> 3',\n",
    "        '1 -> 0',\n",
    "        '2 -> 1,6',\n",
    "        '3 -> 2',\n",
    "        '4 -> 2',\n",
    "        '5 -> 4',\n",
    "        '6 -> 5,8',\n",
    "        '7 -> 9',\n",
    "        '8 -> 7',\n",
    "        '9 -> 6']\n",
    "data = graphListToDict(data)\n",
    "\n",
    "\n",
    "# with open(\"./Data/dataset_203_2.txt\") as inFile:\n",
    "#     data = inFile.readlines()\n",
    "\n",
    "# eulerianCycle(graphListToDict(data),ret=False, prnt=True, output=\"./Data/dataset_203_2_RES.txt\")\n",
    "eulerianCycle(data, ret=False, prnt=True)"
   ]
  },
  {
   "cell_type": "markdown",
   "metadata": {},
   "source": [
    "#### Eulerian Path\n",
    "Now we can detect Eulerian cycles but what about a path?<br>\n",
    "Since a Eulerian cycle requires a balanced, connected graph a cycle would have unbalanced nodes. Which ones? The first and last nodes would one less incoming edge and one less out going edge respectively. If we can detect the start node and set our cycle algorithm to iteratively enlarge cycles from this node we should end on the path."
   ]
  },
  {
   "cell_type": "code",
   "execution_count": 25,
   "metadata": {},
   "outputs": [],
   "source": [
    "import copy\n",
    "\n",
    "def calcInOut(graph):\n",
    "    '''\n",
    "    For a given graph calculate the in and out degrees for each node.\n",
    "    \n",
    "    Args:\n",
    "        graph (dict[string] = list[string]): Mapping representing a graph and associated out edges.\n",
    "        \n",
    "    Returns:\n",
    "        dict[string] = (dict[string] = int): Mapping of a node to its in and out degrees\n",
    "            dict[node] = {'in': X, 'out': X}\n",
    "    '''\n",
    "    ioCount = dict()\n",
    "    for node in graph:\n",
    "        if node not in ioCount:\n",
    "            ioCount[node] = {'in': 0, 'out': len(graph[node])}\n",
    "        for n in graph[node]:\n",
    "            if n not in ioCount:\n",
    "                if n in graph:\n",
    "                    ioCount[n] = {'in': 1, 'out': len(graph[n])}\n",
    "                else:\n",
    "                    ioCount[n] = {'in': 1, 'out': 0}\n",
    "            else:\n",
    "                ioCount[n]['in'] += 1\n",
    "    return ioCount\n",
    "\n",
    "def eulerianPath(graph, ret=True, prnt=False, output=None):\n",
    "    '''\n",
    "    Find Eulerian Path through a graph.\n",
    "    \n",
    "    Args:\n",
    "        graph (dict[string] = list[string]): Graph to find a Eulerian path within.\n",
    "        ret (bool, optional): Defaults to True. Returns list of path.\n",
    "        prnt (bool, optional): Defualts to False. Prints formatted path if True.\n",
    "        output (string, optional): Defualts to None. If not None, resulting path is written to the given filename.\n",
    "        \n",
    "    Returns:\n",
    "        list[string], optional: List of the found Eulerian path. \n",
    "    '''\n",
    "    ioCount = calcInOut(graph)\n",
    "    strt = rd.choice(list(graph.keys()))\n",
    "    for key in graph:\n",
    "        if key not in ioCount or ioCount[key]['out'] - ioCount[key]['in'] == 1:\n",
    "            strt = key\n",
    "    path = eulerianCycle(graph, start=strt)\n",
    "            \n",
    "    if prnt or output != None:\n",
    "        if prnt:\n",
    "            print(*path, sep='->')\n",
    "        if output != None:\n",
    "            f = open(output, 'w')\n",
    "            for i, nd in enumerate(path):\n",
    "                if i != 0:\n",
    "                    f.write(\"->\")\n",
    "                f.write(nd)\n",
    "            f.close()\n",
    "    if ret:\n",
    "        return path"
   ]
  },
  {
   "cell_type": "code",
   "execution_count": 26,
   "metadata": {},
   "outputs": [
    {
     "name": "stdout",
     "output_type": "stream",
     "text": [
      "6->7->8->9->6->3->0->2->1->3->4\n"
     ]
    }
   ],
   "source": [
    "# test/run eulerianPath function\n",
    "\n",
    "data = ['0 -> 2',\n",
    "        '1 -> 3',\n",
    "        '2 -> 1',\n",
    "        '3 -> 0,4',\n",
    "        '6 -> 3,7',\n",
    "        '7 -> 8',\n",
    "        '8 -> 9',\n",
    "        '9 -> 6']\n",
    "# calcInOut(graphListToDict(data))\n",
    "eulerianPath(graphListToDict(data), ret=False, prnt=True)\n",
    "\n",
    "# with open(\"./Data/dataset_203_6.txt\") as inFile:\n",
    "#     data = inFile.readlines()\n",
    "# eulerianPath(graphListToDict(data), ret=False, prnt=True, output=\"./Data/dataset_203_6_RES.txt\")"
   ]
  },
  {
   "cell_type": "markdown",
   "metadata": {},
   "source": [
    "Now putting together the algorithms:\n",
    "1. de Bruijn Construction\n",
    "2. Eulerian Path\n",
    "3. Path to Genome\n",
    "\n",
    "We should be able to reconstruct a sequence from list of k-mers"
   ]
  },
  {
   "cell_type": "code",
   "execution_count": 29,
   "metadata": {},
   "outputs": [],
   "source": [
    "def strReconstruct(Patterns):\n",
    "    '''\n",
    "    String Reconstruction Problem\n",
    "    Reconstruct a string that can be generated from collection of patterns.\n",
    "    \n",
    "    Args:\n",
    "        Patterns (list[string]): Collection of patterns to reconstruct string from.\n",
    "        \n",
    "    Returns:\n",
    "        string: Reconstructed string\n",
    "    '''\n",
    "    dB = DBFromKmers(Patterns)\n",
    "    path = eulerianPath(dB)\n",
    "    return pathToGenome(path)"
   ]
  },
  {
   "cell_type": "code",
   "execution_count": 30,
   "metadata": {},
   "outputs": [
    {
     "data": {
      "text/plain": [
       "'GGCTTACCA'"
      ]
     },
     "execution_count": 30,
     "metadata": {},
     "output_type": "execute_result"
    }
   ],
   "source": [
    "# test/run strReconstruct function\n",
    "\n",
    "pat = ['CTTA',\n",
    "       'ACCA',\n",
    "       'TACC',\n",
    "       'GGCT',\n",
    "       'GCTT',\n",
    "       'TTAC']\n",
    "strReconstruct(pat)\n",
    "\n",
    "# with open(\"./Data/dataset_203_7.txt\") as inFile:\n",
    "#     data = inFile.readlines()\n",
    "    \n",
    "# strReconstruct([x.strip() for x in data[1:]])"
   ]
  },
  {
   "cell_type": "markdown",
   "metadata": {},
   "source": [
    "Given we can use the de Bruijn graph to solve string reconstruction we should also be able to apply this methodology to construct a k-universal string for any value k.\n",
    "\n",
    "\n",
    "Example 3-Universal String:\n",
    "<img src=\"./img/k_universal_circular_string.png\" width=\"200\">"
   ]
  },
  {
   "cell_type": "code",
   "execution_count": 31,
   "metadata": {},
   "outputs": [
    {
     "name": "stdout",
     "output_type": "stream",
     "text": [
      "4/4\n"
     ]
    },
    {
     "data": {
      "text/plain": [
       "'1001'"
      ]
     },
     "execution_count": 31,
     "metadata": {},
     "output_type": "execute_result"
    }
   ],
   "source": [
    "import itertools\n",
    "\n",
    "def kCircularUniversal(k):\n",
    "    '''\n",
    "    Create k-universal circular string\n",
    "    \n",
    "    Args:\n",
    "        k (int): Value to find universal circular string for\n",
    "        \n",
    "    Returns:\n",
    "        string: K-universal circular string\n",
    "    '''\n",
    "    pat = [''.join(x) for x in list(itertools.product('01', repeat=k))]\n",
    "    db = DBFromKmers(pat)\n",
    "    cycle = eulerianCycle(db)\n",
    "    text = pathToGenome(cycle)\n",
    "    print(f\"{len(text)-(k-1)}/{2 ** k}\")\n",
    "    return text[:len(text)-(k-1)]\n",
    "    \n",
    "kCircularUniversal(2)"
   ]
  },
  {
   "cell_type": "markdown",
   "metadata": {},
   "source": [
    "In our genome assembly from k-mers a lot of idealistic assumptions have been made to enable learning and progression.<br>\n",
    "The reality of modern genome assembly is much more chaotic. Sequencing machines generate <300bp reads which are too short to span heavily repeating sequences.<br>\n",
    "* Increasing read length would solve this problem but since that is difficult we can generate **read-pairs**. Pairs of reads separated by a fixed distance (d) in the genome. Think about this as a gapped read length of $k + d + k$ where we know the two k-mers but the middle d region is unknown"
   ]
  },
  {
   "cell_type": "code",
   "execution_count": 35,
   "metadata": {
    "scrolled": true
   },
   "outputs": [],
   "source": [
    "def pairedCompostion(text, k, d):\n",
    "    '''\n",
    "    Generate paired composition of text, (k, d)-mers represent two k-mers separated by d distance.\n",
    "    \n",
    "    Args:\n",
    "        text (string): Text to generate paired composition for.\n",
    "        k (int): Length of k-mer to break text into.\n",
    "        d (int): Distance between each pair of k-mers\n",
    "        \n",
    "    Returns:\n",
    "        list[(string, string)]: All (k, d)-mers of the paired composition of text.\n",
    "    '''\n",
    "    kd = []\n",
    "    for i in range(len(text) - (2*k) - d + 1):\n",
    "        kd.append((text[i:i+k], text[i+k+d:i+(2*k)+d]))\n",
    "    return sorted(kd,key=lambda x: x[0])"
   ]
  },
  {
   "cell_type": "code",
   "execution_count": 37,
   "metadata": {},
   "outputs": [
    {
     "name": "stdout",
     "output_type": "stream",
     "text": [
      "(AAT|CCA) (ATG|CAT) (ATG|GAT) (CAT|GGA) (CCA|GGG) (GCC|TGG) (GGA|GTT) (GGG|TGT) (TAA|GCC) (TGC|ATG) (TGG|ATG)\n"
     ]
    }
   ],
   "source": [
    "# test/run KDmerFromText function\n",
    "\n",
    "st = ''\n",
    "for pr in pairedCompostion(\"TAATGCCATGGGATGTT\", 3, 1):\n",
    "    if len(st) > 0:\n",
    "        st += ' '\n",
    "    st += f\"({pr[0]}|{pr[1]})\"\n",
    "print(st)"
   ]
  },
  {
   "cell_type": "markdown",
   "metadata": {},
   "source": [
    "##### Paired de Bruijn Graphs\n",
    "\n",
    "Given a (k, d)-mer $(a_{1}...a_{k}|b_{1}...b_{k})$<br>\n",
    "* Prefix => $(k-1, d+1)$-mer $(a_{1}...a_{k-1}|b_{1}...b_{k-1})$\n",
    "* Suffix => $(k-1, d+1)$-mer $(a_{2}...a_{k}|b_{2}...b_{k})$\n",
    "* Example (GAC|TCA) => prefix -> (GA|TC), suffix -> (AC|CA)\n",
    "\n",
    "Note that for consecutive (k, d)-mers appearing in Text, the suffix of the first (k, d)-mer is equal to the prefix of the second\n",
    "\n",
    "Constructing $PathGraph_{k,d}(Text)$ that represents the path formed by |Text|-(k + d + k) + 1 edges corresponding to all (k,d)-mers in Text. Edges are labeled with the (k,d)-mers, starting and ending nodes of an edge are its suffix and prefix respectively.\n",
    "\n",
    "From the $PathGraph_{k,d}(Text)$ we construct the $DeBruijn_{k,d}(Text)$ by gluing identically labeled nodes together\n",
    "Its easy to construct a paired de Bruijn graph from a string Text, but how can we construct the paired de Bruijn graph from the (k,d)-mer composition of text?"
   ]
  },
  {
   "cell_type": "code",
   "execution_count": 76,
   "metadata": {},
   "outputs": [],
   "source": [
    "def DBFromRP(Patterns, k):\n",
    "    kDict = dict()\n",
    "    for pattern in Patterns:\n",
    "        r1, r2 = pattern.split('|')\n",
    "        fst = f\"{r1[:k]}|{r2[:k]}\"\n",
    "        lst = f\"{r1[-k:]}|{r2[-k:]}\"\n",
    "        if fst not in kDict:\n",
    "            kDict[fst] = [lst]\n",
    "        else:\n",
    "            kDict[fst].append(lst)\n",
    "    return kDict\n",
    "    \n",
    "def stringSpellByGapPat(patterns, k, d):\n",
    "    init = []\n",
    "    term = []\n",
    "    for pattern in patterns:\n",
    "        fst, lst = pattern.split('|')\n",
    "        init.append(fst)\n",
    "        term.append(lst)\n",
    "    init = pathToGenome(init)\n",
    "    term = pathToGenome(term)\n",
    "    for i in range(k + d + 1, len(init)):\n",
    "        if init[i]  != term[i-k-d]:\n",
    "            return \"None\"\n",
    "    return init + term[-(k+d):]\n",
    "\n",
    "def strReconsructFromRP(pairs, k, d):\n",
    "    db = DBFromRP(pairs, k-1)\n",
    "    path = eulerianPath(db)\n",
    "    st = stringSpellByGapPat(path, k, d)\n",
    "    return st"
   ]
  },
  {
   "cell_type": "code",
   "execution_count": 77,
   "metadata": {
    "scrolled": true
   },
   "outputs": [
    {
     "data": {
      "text/plain": [
       "'ACGCGCGAATGGGGGTCGGATTGCCAAGTCGCGTCCCGACGCGTCTCGTTCCATTTGCTTCGCACCCGGGTGTAGTCGATGATTACCCATTCCAAAGATACGTCCACGAGATCATCGGGTCCGGGTTTGATAGTCAAAATGGACTTCCCGCCTTATACCACTCTCGTAACGGCTTACTGTGGAGTATGTATGGGTCCAGGTATGGGCAGCTTAATCGGGAGAACGTGACGACGTGGTGGGACCTTTGCCAAGTCGCGTCCCGACGCGTCTCGTTCCATTTGCTTCGCACCCGGGTTCATGGTGTTCTCATGTGTAACCGGGGGCCAAATAGTATACCATGAGTGGACAGGTTGTATCGCTGGGTTGAACCTCGTTGCTAGTAGGCGTACTTCCCTATCGTTACAGCCATACATAACGAACACAGCTGTCCTATCCCGATCTTATACATATCATTACGATCAGAGTGCGGACTTCATCACCAAATGCGCGGCTCCGGGCGGGTCTCTGGAGTGCTGGAGAACATAGATGATATGCTCTGATGCGATGACCCTGGGGACGACTAGCCAGGTTGCCAAGTCGCGTCCCGACGCGTCTCGTTCCATTTGCTTCGCACCCGGGTCTGCGGCCCGGCGGGGCTCCAAAGCCGGCTCTCGTGTTACCGTGGGAGATTATGGGACGAATTACATCGTCACGCCAGCAGTGTAATACGGTAAACCTGTGTTAACACCCCTCTGAATCCAGGTCGATGTCTAGCAGTACACTGTGGTCTTAAGCTCTCGCAGAGCAAAGGAGGCCGTTCTTGCAGTATCCCATAAGTACTACTAATGCAAGAACACCGCGTTACCTAACCAGGGGGCAGTTACAAGTTGCCAGAATAGGGTTCGTTGCCAAGTCGCGTCCCGACGCGTCTCGTTCCATTTGCTTCGCACCCGGGCGAGTAGGTGGCGAATAAGGCAGTATGTACCATTGGGCATTCCGAGGTTTCGTCGCGCCCCGAATTGCTATACAACCAATGAATGACACCTGACTTGACGTTTTTGCGCTTCGCATAATTGCCAAGTCGCGTCCCGACGCGTCTCGTTCCATTTGCTTCGCACCCGGGAGGTGGCGGGCACCTTAGAATCCAAGAGGTGAGACGTGGTCCTACATCATCATCAGACTTATTCTATGGAGGCCAGGGAAGCGCCGGCTAGGTTGGACCATCGCATCGGACGGGCAAATCCAATGAATCTTGCTGAGAAAGCCGCGTAGAGGGCCCTTGCCTATAGAAAGGGACAATGGTTGGCATCTTTCGAGCTCTATATGGACCCGACATAATGCGCATTAAGATTCAGAGTCATGGCTCCACGCTGAGATGCTGAGTTTAAAAGCGTAACATGATCCTTATCTCTGAGGCCCACTAGCCCTGCTGTTGGCGTTAGATAACGTTATTGAGAGACTAGAAGGGGCTAGGTTGCCAAGTCGCGTCCCGACGCGTCTCGTTCCATTTGCTTCGCACCCGGGCGTAACTGAATTATCAAAACCAGGCATGCATTTACCGCCCCCCCAATAATAAGCGTGCGACATCGGTACTAACTAGACAGTTAATGGACTTAAGAACTAACCATTCACATGTTACTACAAGATAAGACTAACTTTGCCGATAGACAACCTGCGGCGGAGTCCGGTTCCGACGCACCAAGGGTAGTTTTCTACAAAAGTTCGTCAGACGGGTCGCGTCATGCAAGTGGCCGTAGAGAATTTGGCTAAGAGATTCAAAATTGGCTCGTTGCCAAGTCGCGTCCCGACGCGTCTCGTTCCATTTGCTTCGCACCCGGGGGGGAGCTATCCAATTGGATTATCTGACTAGTGTTCTATGCAATGCCTACCTTTAACCATTGCGTTGAGTCCACAAGAGATGGAAGCTCACCCGCGCTCGGCTCGGTCTTTCTTCGCTAGCAAACATCCCCGTATTGATTCCTATCATTACGTTTGATGATGTCTGACAAGTTGAGAACTGGCCCACCCAGTGTTGCCCCGATCCTGATATATTAACCGGACGGAGGTTGGGAACCTGTTGCACTAATACTTAACTTCCAATCGAAAGGCAACCCGTAGCTGGTAGCTCTCAGATTCTAAATGTGTACGTTGCAGCTATCATCATAAACATGGGCTGTGGGTCACCGCTAAGGATCCAACCAGTAAGCGGCGTAGAAGGAGGCAGGTACAGGAGCGCCATTCACTACCCCTCCCAGACGACTCCGTTGAGTAAGAATTGGCATCGATACCCCTTAGCGCTGGGCTTCGTTGCAGTTGCTTGCCAAGTCGCGTCCCGACGCGTCTCGTTCCATTTGCTTCGCACCCGGGATGTGCTATCATTCGTGGGGGGGAAGACGAATGGTGTCCCAGAGGACTGACATGTGTCTCCTGCGGTCGGCCGCACATAGTACTCGATAGAGGGTCGGAAGCAGCGCTCGAAGTTCACCTCCCTAGTCCAAGATGACAACTACTGTTAGCATTTGCACTTTAGTCGGGGCTAAAAGCAGGTTTGCCAAGTCGCGTCCCGACGCGTCTCGTTCCATTTGCTTCGCACCCGGGGCACACTACGGTATCAATCCTGACCACGCGCTCACGCTAGAGTTAAAGAGGTGTATAGACTTACAGCCAGTGAATGAACAACTTCTGAGGGGGGCTGTTATTTTCTTATACCTTAGATGATGCCGCCGAACAACCTGTGTTGCCAAGTCGCGTCCCGACGCGTCTCGTTCCATTTGCTTCGCACCCTTGCCAAGTCGCGTCCCGACGCGTCTCGTTCCATTTGCTTCGCACCCGGGGGGGATCCAGTCAACCTTGGATTCGAATTTCACACAGTATGTGCCTTTAGACCTGCGAATACTCTGGGCACGCACACTTTATTCTGTGAAACCGCAACCAGCTAGTAGTGCAGTCTCCACCACATGGTCGAACGAATTCCATCTGCGATAAATTTGCCGTCCATGGGGCCTAGTCAAGATTGCCATCTTAGTCGGGCGCGACAGTGCGATTCCGGGCGTGACGTCTTTCCCGAGTTTGCAAGCTAAGAAACAGGACGGAGAGTGCGTTCCACTTACATATGGCCGATGTACGTAATAGAACAACCGTCTAAGGGCTTCCCCCTAAGAAGTCCGTAAGTAAACGATTCCACCCCAGTGTAACTACGCCGACGTGTAAAGATCATTGCGTATCTGCCGGGTGCCAGTATCTTTGATCCTCGGGCATCGAGACCCACAACGGTGGATGGGTGCTGCTTCATTCGTCTATTCCTAGCGAAAGTTTTTCCCCGCCCCTTAAGAACGGACAAAACAATAGACCTTGGCTAGATTTTCGTTAATTCCATAGAACAACGTTAGGTACCCATTATTCTGTCCCAGAGAAGATCTGCAGGACAACAACTTCGATTGTCTATAGAGCCGGACCTATGCCATACAACAGTCACGTCAGGAACGATGGTATCTGGCACGGCTAAAGCCTCCACGTTCCGCGAACTTTTAACTGCTGGCCCCGTCGTATGCACCGATGATCACCGATACAGGTGTTAATAGCGCGAGATCGAGTCTCAGGCATGATGTAGACAGTTTCAGGACGAGTACCACTTGTAGCAGTTTGTCAACTCTACTTGCCAAGTCGCGTCCCGACGCGTCTCGTTCCATTTGCTTCGCACCCGGGTTGTATTCAGACCTCCGGTCACCGCCGAATTGTCCGGGTGAAGCGCATCCTTCACAACCACTAATGATGAGTAGATAATCAAGAAAATCGTCGGTCTGGAGGGCTGTTAAGCTGACTGGGGAGCAAGCGGCGGCTGCAGCCACATACATATTGACGCTAGCTGTGGTCATCGTTTTATGTAAACCCTGAGCTGAGACACCTCGTATCGTCGTTACCCTAGTGACCCCAAAAGCAATAGTTTCTAAGTTCGCGAGTTTGGAGTGGTGTCTATATCAGCCATTGAATGTGCTGACAACAGTGTCAGAGCACAATGATACTCCCCTGTTACTTCTCGCTCCTGCAAATGTGGTTTTTCTCAGGGACGCGGGCCAAGAAAGCTACTTGGTCTGAGCGAGTCTTATCGCTTTGCAGGGTTACCCAAAGTCAATTATTGCCAAGTCGCGTCCCGACGCGTCTCGTTCCATTTGCTTCGCACCCGGGGCTCCCTACTTGGCTGATTTTGCCAAGTCGCGTCCCGACGCGTCTCGTTCCATTTGCTTCGCACCCGGGAATCCTCTCCCTTCCTTCGGTAACGATTGGGCGTAAAATTCATTGGTGTTGTAAGGAGGCCCAGGTCTCAGGTGCGTTAGCCGTCTAGTAGCAGCTCCTCGTGCATATGCATATGCGTTTTTGGAATTTCTTGCCAAGTCGCGTCCCGACGCGTCTCGTTCCATTTGCTTCGCACCCGGGGCGTTGATCTGAACTCCGGCAGGCTCCAAGTGTGACGCCGAGCGCGTAGACTAACGCGTAGCGCAGGTTAATACGGTTGATCGCTAAAGTGGATAAGTGTCTAAAGTTGCGGATTCTCGACTCGCTGAAGACGATGTCCTTTTTGCCAAGTCGCGTCCCGACGCGTCTCGTTCCATTTGCTTCGCACCCGGGTACTCTCATGGGCTTTTGTCAAGGTATCATACTGCTTCCTGTTTAGGGCGCCCTCTACACTAGATTGTAGGAATGAGGTTAGGATTGATCAGACTTTTGTCACAGTTTCTATCGCCAGACCCAAGGCCGATTTCAGCTGGGCGGGAGTACGAAAAAGAGTAGCAATCTTACGGCTCTTTCTCCAACGAACAAAGAGAGAGCCGCGCGTCGTCAACAACCTCTCTTTCAAACTCTTGCCAAGTCGCGTCCCGACGCGTCTCGTTCCATTTGCTTCGCACCCGGGCGGTTGAGTGGATAACATCTCGCCGCTGCACCAGGTTACAGCGTTACCGGCGGGATACAGACATGGCGAGTCGGGAATTTTCTCTGACCTGACAAACTACAAGTCCATAAGTCACACCCCCACTCTTTGCATTTTCCGGTTTGCAAGTGCGTTTTAGTGGGACCCTCGCCTGCGGCATATCAATTGCCAAGTCGCGTCCCGACGCGTCTCGTTCCATTTGCTTCGCACCCGGGGACCAGCTCGCCTGATACCGGCCCGGAGGGTTTGCTATGGCTAATTTATCATCTCTCGTGACTAGACGCCGACAGTCCTACCTTGCCAAGTCGCGTCCCGACGCGTCTCGTTCCATTTGCTTCGCACCCGGGGTGAAAAGTATGTAATAATGAGGTCCTAGCGGATCCGGTTGGTGTTACGGTGAGGACGCACCGCTGGACGCAAGTGAGCCCTTACACTTAAATACGCACTGGACTAATTATCATATAGCCTACCAACTAGCCAATTCAGCAGACCACGATTGCGACTAAACAAGCTCAACATAGTTTACAGCGATAGCAAGCTGAACGCAATCACGCTAATGCGTTATCCCGGATTGTACTTCGACCCATGTATCAACGTACTATCCTTTTGCCAAGTCGCGTCCCGACGCGTCTCGTTCCATTTGCTTCGCACCCGGGGTCGATGAGCCTACTGGCTTACGGAGTCAGCGTTATGCCTTACAATAGTATGGGTTCGTCGTCTCTAAGGTACTACGTAAAGTCCGATAACAGCGGTACTGAATCGCCCTCAAAAGTGAGCACCCTCGTGGCTTAGTACCTCCATCAACTCTGTGGCTGATTCACCCCATTACTGGGAACATGGATGTTCCCCACCAGAACCGGGAAACCCTTGTGGAACAGGTCTTCAAGCCCGTGGCCAGCTTAGTCTGAAAAGGTGACCAGTCGCACCGTGCAAAAGGGCAGGTAGGCCCGGATCAGTATTTAACCATCACATGGTTCTAGAGCCAAGGGAAACCGCAAAACCAGGTGTAAGTATTGTTGGGGGTACGTTTTGGACGATTCAGATTTCAAATAATAGGCTTCGTCGATGGAGCAACAAATGGGATTAGAGAGAGT'"
      ]
     },
     "execution_count": 77,
     "metadata": {},
     "output_type": "execute_result"
    }
   ],
   "source": [
    "# pat = ['GACC|GCGC',\n",
    "#        'ACCG|CGCC',\n",
    "#        'CCGA|GCCG',\n",
    "#        'CGAG|CCGG',\n",
    "#        'GAGC|CGGA']\n",
    "# strReconsructFromRP(pat, 4, 2)\n",
    "\n",
    "# pat = ['GAGA|TTGA',\n",
    "#        'TCGT|GATG',\n",
    "#        'CGTG|ATGT',\n",
    "#        'TGGT|TGAG',\n",
    "#        'GTGA|TGTT',\n",
    "#        'GTGG|GTGA',\n",
    "#        'TGAG|GTTG',\n",
    "#        'GGTC|GAGA',\n",
    "#        'GTCG|AGAT']\n",
    "\n",
    "# stringSpellByGapPat(pat, 4, 2)\n",
    "# strReconsructFromRP(pat, 4, 2)\n",
    "\n",
    "# with open(\"./Data/dataset_6206_4.txt\") as inFile:\n",
    "#     data = inFile.readlines()\n",
    "    \n",
    "# k, d = data[0].strip().split(' ')\n",
    "# pat = []\n",
    "# for i in range(1, len(data)):\n",
    "#     pat.append(data[i].strip())\n",
    "    \n",
    "# stringSpellByGapPat(pat, int(k), int(d))\n",
    "\n",
    "with open(\"./Data/dataset_204_16.txt\") as inFile:\n",
    "    data = inFile.readlines()\n",
    "\n",
    "k, d = data[0].strip().split(' ')\n",
    "pat = []\n",
    "for i in range(1, len(data)):\n",
    "    pat.append(data[i].strip())\n",
    "strReconsructFromRP(pat, int(k), int(d))"
   ]
  },
  {
   "cell_type": "code",
   "execution_count": 80,
   "metadata": {},
   "outputs": [],
   "source": [
    "def maxNonBranchPaths(graph, ret=True, prnt=False):\n",
    "    inOut = calcInOut(graph)\n",
    "    ndSet = set()\n",
    "    paths = []\n",
    "    for node in graph:\n",
    "        if inOut[node]['in'] != 1 or inOut[node]['out'] != 1:\n",
    "            if inOut[node]['out'] > 0:\n",
    "                for edge in graph[node]:\n",
    "                    tPath = [node, edge]\n",
    "                    ndSet.update(node, edge)\n",
    "                    tEdge = edge\n",
    "                    while inOut[tEdge]['in'] == 1 and inOut[tEdge]['out'] == 1:\n",
    "                        tEdge = graph[tEdge][0]\n",
    "                        tPath.append(tEdge)\n",
    "                        ndSet.add(tEdge)\n",
    "                    paths.append(tPath)\n",
    "                    \n",
    "    for node in graph:\n",
    "        if node not in ndSet and inOut[node]['in'] == 1 and inOut[node]['out'] == 1:\n",
    "            iso = []\n",
    "            while inOut[node]['in'] == 1 and inOut[node]['out'] == 1:\n",
    "                iso.append(node)\n",
    "                node = graph[node][0]\n",
    "                if node == iso[0]:\n",
    "                    iso.append(node)\n",
    "                    break\n",
    "            if len(iso) > 1 and iso[0] == iso[-1]:\n",
    "                paths.append(iso)\n",
    "                ndSet.update(iso)\n",
    "            \n",
    "    if prnt:\n",
    "        for path in paths:\n",
    "            fStr = ''\n",
    "            for i, nd in enumerate(path):\n",
    "                if i != 0:\n",
    "                    fStr += f\" -> \"\n",
    "                fStr += f\"{nd}\"\n",
    "            print(fStr)\n",
    "    if ret:\n",
    "        return paths\n",
    "    \n",
    "def contigGen(patterns, ret=True, prnt=False):\n",
    "    #Gen DB\n",
    "    db = DBFromKmers(patterns)\n",
    "    #NonBranch\n",
    "    nonBrPaths = maxNonBranchPaths(db)\n",
    "    contigs = []\n",
    "    for pths in nonBrPaths:\n",
    "        contigs.append(pathToGenome(pths))\n",
    "        if prnt:\n",
    "            print(contigs[-1])\n",
    "    if ret:\n",
    "        return contigs"
   ]
  },
  {
   "cell_type": "code",
   "execution_count": null,
   "metadata": {},
   "outputs": [],
   "source": [
    "# test/run contigGen function\n",
    "\n",
    "data = ['ATG',\n",
    "       'ATG',\n",
    "       'TGT',\n",
    "       'TGG',\n",
    "       'CAT',\n",
    "       'GGA',\n",
    "       'GAT',\n",
    "       'AGA']\n",
    "\n",
    "# with open(\"./Data/dataset_205_5.txt\") as inFile:\n",
    "#     data = inFile.readlines()\n",
    "    \n",
    "\n",
    "contigGen([x.strip() for x in data], ret=False, prnt=True)"
   ]
  },
  {
   "cell_type": "code",
   "execution_count": 79,
   "metadata": {},
   "outputs": [
    {
     "name": "stdout",
     "output_type": "stream",
     "text": [
      "CAAATGCATCATACGCTCACCCAG\n",
      "CACCGATACTGATTCTGAAGCTT\n"
     ]
    }
   ],
   "source": [
    "# Quiz Week 2 Problems\n",
    "pat = ['AAAT',\n",
    "       'AATG',\n",
    "       'ACCC',\n",
    "       'ACGC',\n",
    "       'ATAC',\n",
    "       'ATCA',\n",
    "       'ATGC',\n",
    "       'CAAA',\n",
    "       'CACC',\n",
    "       'CATA',\n",
    "       'CATC',\n",
    "       'CCAG',\n",
    "       'CCCA',\n",
    "       'CGCT',\n",
    "       'CTCA',\n",
    "       'GCAT',\n",
    "       'GCTC',\n",
    "       'TACG',\n",
    "       'TCAC',\n",
    "       'TCAT',\n",
    "       'TGCA']\n",
    "\n",
    "print(strReconstruct(pat))\n",
    "\n",
    "pat2 = ['ACC|ATA',\n",
    "       'ACT|ATT',\n",
    "       'ATA|TGA',\n",
    "       'ATT|TGA',\n",
    "       'CAC|GAT',\n",
    "       'CCG|TAC',\n",
    "       'CGA|ACT',\n",
    "       'CTG|AGC',\n",
    "       'CTG|TTC',\n",
    "       'GAA|CTT',\n",
    "       'GAT|CTG',\n",
    "       'GAT|CTG',\n",
    "       'TAC|GAT',\n",
    "       'TCT|AAG',\n",
    "       'TGA|GCT',\n",
    "       'TGA|TCT',\n",
    "       'TTC|GAA']\n",
    "print(strReconsructFromRP(pat2, 3, 1))"
   ]
  }
 ],
 "metadata": {
  "kernelspec": {
   "display_name": "Python 3",
   "language": "python",
   "name": "python3"
  },
  "language_info": {
   "codemirror_mode": {
    "name": "ipython",
    "version": 3
   },
   "file_extension": ".py",
   "mimetype": "text/x-python",
   "name": "python",
   "nbconvert_exporter": "python",
   "pygments_lexer": "ipython3",
   "version": "3.7.7"
  }
 },
 "nbformat": 4,
 "nbformat_minor": 4
}
